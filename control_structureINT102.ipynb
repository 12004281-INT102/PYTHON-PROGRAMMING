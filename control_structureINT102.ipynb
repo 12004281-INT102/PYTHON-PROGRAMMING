{
  "nbformat": 4,
  "nbformat_minor": 0,
  "metadata": {
    "colab": {
      "name": "control_structureINT102.ipynb",
      "provenance": [],
      "collapsed_sections": [],
      "authorship_tag": "ABX9TyMDuyBo3bMNxZN0VARetJnP",
      "include_colab_link": true
    },
    "kernelspec": {
      "name": "python3",
      "display_name": "Python 3"
    },
    "language_info": {
      "name": "python"
    }
  },
  "cells": [
    {
      "cell_type": "markdown",
      "metadata": {
        "id": "view-in-github",
        "colab_type": "text"
      },
      "source": [
        "<a href=\"https://colab.research.google.com/github/12004281-INT102/PYTHON-PROGRAMMING/blob/main/control_structureINT102.ipynb\" target=\"_parent\"><img src=\"https://colab.research.google.com/assets/colab-badge.svg\" alt=\"Open In Colab\"/></a>"
      ]
    },
    {
      "cell_type": "markdown",
      "metadata": {
        "id": "K95HBsuffm87"
      },
      "source": [
        "controls the execution of python statements(alters the execution of statements) by employing conditional expression"
      ]
    },
    {
      "cell_type": "markdown",
      "metadata": {
        "id": "zVAE8OJBj1Gx"
      },
      "source": [
        "**1.Conditional Control(if, if else, if-elif-else) 2.loop control(while, for)**"
      ]
    },
    {
      "cell_type": "markdown",
      "metadata": {
        "id": "ac3d4jCrkWRC"
      },
      "source": [
        "**!..If Statement**---only used to outcome true\n",
        "if(condition expression):\n",
        "   #statement 1\n",
        "   #statement 2\n"
      ]
    },
    {
      "cell_type": "code",
      "metadata": {
        "id": "gbX9wqknlAg4"
      },
      "source": [
        "#program to check if given input is positive only\n",
        "X=int(input('Enter the value='))\n",
        "if(X>=0):\n",
        "  print(X,\"is positive\")\n",
        "print(\"END\")  "
      ],
      "execution_count": null,
      "outputs": []
    },
    {
      "cell_type": "markdown",
      "metadata": {
        "id": "5_4BgfVKmvDW"
      },
      "source": [
        "**!..If-else statement**--\n",
        "if(conditional expression):\n",
        "   body of if\n",
        " else:\n",
        "   body of else  \n"
      ]
    },
    {
      "cell_type": "code",
      "metadata": {
        "id": "MwrtBPqFoESj"
      },
      "source": [
        "#program to check if given input is positive or neagative\n",
        "X=int(input('Enter the value='))\n",
        "if(X>=0):\n",
        "  print(X,\"is positive\")\n",
        "else:\n",
        "  print(X,'is neagive')\n",
        "print(\"END\")"
      ],
      "execution_count": null,
      "outputs": []
    },
    {
      "cell_type": "markdown",
      "metadata": {
        "id": "MxxRkLdqprbA"
      },
      "source": [
        "**!..If-elif-else statement**--when we need to test multiple conditional expression. n number of elif\n"
      ]
    },
    {
      "cell_type": "code",
      "metadata": {
        "id": "OXbNmC3Dqut5"
      },
      "source": [
        "#program to check if given input is positive or neagative or zero\n",
        "X=int(input('Enter the value='))\n",
        "if(X>0):\n",
        "  print(X,\"is positive\")\n",
        "elif(X<0):\n",
        "  print(X,'is negative')\n",
        "else:\n",
        "  print('X is zero')\n",
        "print(\"END\")"
      ],
      "execution_count": null,
      "outputs": []
    },
    {
      "cell_type": "code",
      "metadata": {
        "id": "IefJfNtQsrgG"
      },
      "source": [
        "#program to check the given input even or odd\n",
        "A=int(input('Enter the value='))\n",
        "if(A %2 == 0):\n",
        "  print(A,'is even number')\n",
        "else:\n",
        "  print(A,'is odd number')"
      ],
      "execution_count": null,
      "outputs": []
    },
    {
      "cell_type": "code",
      "metadata": {
        "colab": {
          "base_uri": "https://localhost:8080/"
        },
        "id": "WBB3B2k1t7QG",
        "outputId": "8c713c1f-8b38-4db1-a3e7-df9a2c18ea8b"
      },
      "source": [
        "#program to check the given input is leap year or not\n",
        "A=int(input('Enter the value='))\n",
        "if(A %4 == 0):\n",
        "  print(A,'is leap year')\n",
        "else:\n",
        "  print(A,'is not leap year')\n",
        "  #this not always true so use nested if"
      ],
      "execution_count": 7,
      "outputs": [
        {
          "output_type": "stream",
          "text": [
            "Enter the value=2033\n",
            "2033 is not leap year\n"
          ],
          "name": "stdout"
        }
      ]
    },
    {
      "cell_type": "markdown",
      "metadata": {
        "id": "HztubqymvB7q"
      },
      "source": [
        "**!..Nested if statement**--if contains if"
      ]
    },
    {
      "cell_type": "code",
      "metadata": {
        "id": "aRftFURJvWaD"
      },
      "source": [
        "#to check largest value of 3 input mubers\n",
        "a=int(input('Enter value of A='))\n",
        "b=int(input('Enter value of B='))\n",
        "c=int(input('Enter value of C='))\n",
        "if(a>b and a>c):\n",
        "  print(a,'is largest')\n",
        "elif(b>c):\n",
        "  print(b,'is largest')\n",
        "else:\n",
        "  print(c,'is largest')"
      ],
      "execution_count": null,
      "outputs": []
    },
    {
      "cell_type": "code",
      "metadata": {
        "id": "9u5ojvwrx7wI"
      },
      "source": [
        "#check input is even or odd without using % operator\n",
        "A=int(input('Enter value of A=')) \n",
        "if(A & 1 == 1):\n",
        "  print(A,'is odd number')\n",
        "else:\n",
        " print(A,'is even number')"
      ],
      "execution_count": null,
      "outputs": []
    },
    {
      "cell_type": "markdown",
      "metadata": {
        "id": "aDDkbkOO0CFR"
      },
      "source": [
        "**2.Loop control structure**-controls the repeated execution of statement"
      ]
    },
    {
      "cell_type": "markdown",
      "metadata": {
        "id": "tylbtWxI0XLq"
      },
      "source": [
        "!..For statement"
      ]
    },
    {
      "cell_type": "code",
      "metadata": {
        "id": "4x8MdYJx3hKT"
      },
      "source": [
        "#program to print 1 to 50 using loop\n",
        "for x in range(1,51):\n",
        "  print(x,end=' ')\n",
        " "
      ],
      "execution_count": null,
      "outputs": []
    },
    {
      "cell_type": "code",
      "metadata": {
        "id": "pfxYjbSd4zIE"
      },
      "source": [
        "for y in range(1,1000,100):\n",
        "   print(y,end=' ')"
      ],
      "execution_count": null,
      "outputs": []
    },
    {
      "cell_type": "code",
      "metadata": {
        "id": "yU5_BezR5ohh"
      },
      "source": [
        "#print values in decending order\n",
        "for x in range(100,0,-10):\n",
        "  print(x,end=' ')"
      ],
      "execution_count": null,
      "outputs": []
    },
    {
      "cell_type": "code",
      "metadata": {
        "id": "JAs9VViy7aqn"
      },
      "source": [
        "#print sum of series 1+2+..n\n",
        "n=int(input('Enter the value='))\n",
        "sum=0\n",
        "for x in range(1,n+1,1):\n",
        "  sum=sum+x\n",
        "print(\"Sum=\",sum)"
      ],
      "execution_count": null,
      "outputs": []
    }
  ]
}