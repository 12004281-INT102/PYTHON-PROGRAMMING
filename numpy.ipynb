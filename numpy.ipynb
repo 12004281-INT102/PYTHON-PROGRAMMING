{
  "nbformat": 4,
  "nbformat_minor": 0,
  "metadata": {
    "colab": {
      "name": "numpy.ipynb",
      "provenance": [],
      "collapsed_sections": [],
      "authorship_tag": "ABX9TyPhVgE477mNQgfZUiSdM/NR",
      "include_colab_link": true
    },
    "kernelspec": {
      "name": "python3",
      "display_name": "Python 3"
    },
    "language_info": {
      "name": "python"
    }
  },
  "cells": [
    {
      "cell_type": "markdown",
      "metadata": {
        "id": "view-in-github",
        "colab_type": "text"
      },
      "source": [
        "<a href=\"https://colab.research.google.com/github/12004281-INT102/PYTHON-PROGRAMMING/blob/main/numpy.ipynb\" target=\"_parent\"><img src=\"https://colab.research.google.com/assets/colab-badge.svg\" alt=\"Open In Colab\"/></a>"
      ]
    },
    {
      "cell_type": "code",
      "metadata": {
        "id": "6scEyhLk5-T9"
      },
      "source": [
        "import numpy as np"
      ],
      "execution_count": 1,
      "outputs": []
    },
    {
      "cell_type": "code",
      "metadata": {
        "id": "ZwheDVMb710O"
      },
      "source": [
        "#how to create array\n",
        "A=np.array([10,20,30,40,50,60])\n",
        "print(A)\n",
        "type(A)"
      ],
      "execution_count": null,
      "outputs": []
    },
    {
      "cell_type": "code",
      "metadata": {
        "id": "jNotlef28rXL"
      },
      "source": [
        "A=np.array([1,2,3,4,5])\n",
        "B=np.array([10,20,30,40,50])\n",
        "C=A+B\n",
        "print(C)"
      ],
      "execution_count": null,
      "outputs": []
    },
    {
      "cell_type": "code",
      "metadata": {
        "id": "Ptsa-gfxAHs5"
      },
      "source": [
        "#creation of 1D and 2D array\n",
        "X=np.array([10,20,30,40,50])\n",
        "Y=np.array([[1,2,3],[3,4,5],[6,7,8]])\n",
        "print(X)\n",
        "print(Y)"
      ],
      "execution_count": null,
      "outputs": []
    },
    {
      "cell_type": "code",
      "metadata": {
        "id": "hRhy0XvTBJxk"
      },
      "source": [
        "Z=np.array([[[1,2,3],[4,5,6],[7,8,9]],[10,11,12],[13,14,15],[16,17,18]])\n",
        "print(Z)"
      ],
      "execution_count": null,
      "outputs": []
    },
    {
      "cell_type": "code",
      "metadata": {
        "id": "P0hnM2FAB_RH"
      },
      "source": [
        "print(X.shape)\n",
        "print(Y.shape)\n",
        "print(Z.shape)"
      ],
      "execution_count": null,
      "outputs": []
    },
    {
      "cell_type": "code",
      "metadata": {
        "id": "C_srZKZ7CiEl"
      },
      "source": [
        "A=np.array([[1,2,3,4,5],[6,7,8,9,10]])\n",
        "print(A)\n",
        "print(A.shape)"
      ],
      "execution_count": null,
      "outputs": []
    },
    {
      "cell_type": "code",
      "metadata": {
        "id": "JwSrTbh3D4vl"
      },
      "source": [
        "#size attribute returns number of elements\n",
        "print(X.size)\n",
        "print(Y.size)\n",
        "print(X.dtype)"
      ],
      "execution_count": null,
      "outputs": []
    },
    {
      "cell_type": "code",
      "metadata": {
        "id": "VX6zOhFsEOTq"
      },
      "source": [
        "C=np.array([\"A\",\"B\",\"C\",\"D\",\"E\"])\n",
        "print(C.dtype)\n",
        "print(C.size)"
      ],
      "execution_count": null,
      "outputs": []
    },
    {
      "cell_type": "code",
      "metadata": {
        "id": "14jjMpVnHShW"
      },
      "source": [
        "A=np.array([10,20,30,40,50,60,70,80,90,100])\n",
        "print(A[4])\n",
        "B=np.array([[11,12,13],[14,15,16],[17,18,18]])\n",
        "print(B[1][0]) # B[1]-ROW [0]-COLUMN\n",
        "W=np.array([[[1,2,3],[11,12,13]],[[4,5,6],[14,15,16]],[[7,8,9],[17,18,19]]])\n",
        "print(W[2][1][1])"
      ],
      "execution_count": null,
      "outputs": []
    },
    {
      "cell_type": "code",
      "metadata": {
        "id": "dGm9YoM9LMUi"
      },
      "source": [
        "X=np.array([[1,2,3,4,5,6,7,8,9,10],[11,12,13,14,15,16,17,18,19,20],[21,22,23,24,25,26,27,28,29,30],[31,32,33,34,35,36,37,38,39,40],[41,42,43,44,45,46,47,48,49,50]])\n",
        "print(X[0][4])\n",
        "print(X[1][4])\n",
        "print(X[2][4])\n",
        "print(X[3][4])\n",
        "print(X[4][4])"
      ],
      "execution_count": null,
      "outputs": []
    },
    {
      "cell_type": "code",
      "metadata": {
        "id": "-COTggnKOeRT"
      },
      "source": [
        "#slicing of 1D array\n",
        "A=np.array([10,20,30,40,50,60,70,80,90,100])\n",
        "B=A[1:5]\n",
        "print(B)"
      ],
      "execution_count": null,
      "outputs": []
    },
    {
      "cell_type": "code",
      "metadata": {
        "id": "H1oAsxnvPrcO"
      },
      "source": [
        "A=np.array([11,12,13,14,15,21,22,23,24,25,31,32,33,34,35])\n",
        "print(A[-15:-10])\n",
        "print(A[-10:-5])\n",
        "print(A[-5:])\n"
      ],
      "execution_count": null,
      "outputs": []
    },
    {
      "cell_type": "markdown",
      "metadata": {
        "id": "xqokmpHxwWmR"
      },
      "source": [
        "**OPERATIONS ON 1D ARRAY**"
      ]
    },
    {
      "cell_type": "code",
      "metadata": {
        "id": "3rwYfNAswNpq"
      },
      "source": [
        "A=np.array([1,2,3,4,5,6,7,8,9,10])\n",
        "#add operation\n",
        "A=A+10\n",
        "print(A)\n",
        "A=A*2 #multiplication\n",
        "print(A)\n",
        "A=A-5\n",
        "print(A)\n",
        "A=A//2\n",
        "print(A)"
      ],
      "execution_count": null,
      "outputs": []
    },
    {
      "cell_type": "code",
      "metadata": {
        "id": "z1gDfwHVxr3y"
      },
      "source": [
        "#array processing built in function\n",
        "X=np.array([1,2,3,4,5,6,7,8,9,10])\n",
        "print(sum(X))\n",
        "print(min(X))\n",
        "print(max(X))\n",
        "print(len(X))"
      ],
      "execution_count": null,
      "outputs": []
    },
    {
      "cell_type": "code",
      "metadata": {
        "id": "aN4dJ7sny4Wt"
      },
      "source": [
        "# arange -similar to range\n",
        "A=np.arange(15)\n",
        "print(A)\n",
        "B=np.arange(1,100,10)\n",
        "print(B)"
      ],
      "execution_count": null,
      "outputs": []
    },
    {
      "cell_type": "code",
      "metadata": {
        "id": "p_Q47bwZz2ho"
      },
      "source": [
        "#creating array from list\n",
        "L=[10,20,30,40,50,60]\n",
        "T=np.array(L)\n",
        "print(T)\n",
        "X=(10,20,30,40,50,60)\n",
        "Y=np.array(X)\n",
        "print(Y)"
      ],
      "execution_count": null,
      "outputs": []
    },
    {
      "cell_type": "code",
      "metadata": {
        "id": "PzpqG64y0tfe"
      },
      "source": [
        "#create 2D or 3D array using arang\n",
        "F=np.arange(15).reshape(3,5)\n",
        "print(F)\n",
        "S = np.arange(1,16).reshape(3,5)\n",
        "print(S)"
      ],
      "execution_count": null,
      "outputs": []
    },
    {
      "cell_type": "code",
      "metadata": {
        "id": "gKKmbBLs2pla"
      },
      "source": [
        "S = np.arange(1,28).reshape(3,3,3)  #first 3 is number of 2D array \n",
        "print(S)"
      ],
      "execution_count": null,
      "outputs": []
    },
    {
      "cell_type": "code",
      "metadata": {
        "id": "4p69KEhN4T--"
      },
      "source": [
        "S.shape=(3,9) #converting 3D to 2D\n",
        "print(S)\n",
        "S.shape=(1,9,3)\n",
        "print(S)"
      ],
      "execution_count": null,
      "outputs": []
    },
    {
      "cell_type": "code",
      "metadata": {
        "id": "LHjd9pwf49F5"
      },
      "source": [
        "F=np.arange(9).reshape(3,3)\n",
        "F.shape=(9,)\n",
        "print(F)"
      ],
      "execution_count": null,
      "outputs": []
    },
    {
      "cell_type": "code",
      "metadata": {
        "id": "R1Ww1YEH5ebY"
      },
      "source": [
        "#flatten()-conerts nD array to 1D\n",
        "F=np.arange(1,16).reshape(3,5)\n",
        "print(F)\n",
        "E=F.flatten()\n",
        "print(E)"
      ],
      "execution_count": null,
      "outputs": []
    },
    {
      "cell_type": "code",
      "metadata": {
        "id": "rzrDk72M68zr"
      },
      "source": [
        "Z=np.zeros((5,5),dtype=int)\n",
        "print(Z)\n",
        "A=np.ones((5,5),dtype=int)\n",
        "print(A)\n",
        "#create an array of same element\n",
        "F=np.full((3,3),8,dtype=int)\n",
        "print(F)"
      ],
      "execution_count": null,
      "outputs": []
    },
    {
      "cell_type": "code",
      "metadata": {
        "id": "GcZ9Cc4D8NAu"
      },
      "source": [
        "#array having elements on diagonal\n",
        "A=np.eye(10,dtype=int)\n",
        "print(A)"
      ],
      "execution_count": null,
      "outputs": []
    },
    {
      "cell_type": "code",
      "metadata": {
        "id": "VLVanrsf95jp"
      },
      "source": [
        "#matrix(2D array) operation\n",
        "A=np.arange(21,37).reshape(4,4)\n",
        "print(A)\n",
        "B=np.arange(1,17).reshape(4,4)\n",
        "print(B)\n",
        "C=A+B\n",
        "print(C)\n",
        "D=A-B\n",
        "print(D)"
      ],
      "execution_count": null,
      "outputs": []
    },
    {
      "cell_type": "code",
      "metadata": {
        "id": "cI8q71jM_j_m"
      },
      "source": [
        "#element wise array multiplication\n",
        "M=A*B\n",
        "print(M)"
      ],
      "execution_count": null,
      "outputs": []
    },
    {
      "cell_type": "code",
      "metadata": {
        "id": "KdYgIvsM_4pN"
      },
      "source": [
        "#use @ or .\n",
        "N=A@B\n",
        "print(N)\n",
        "R=A.dot(B)\n",
        "print(R)"
      ],
      "execution_count": null,
      "outputs": []
    },
    {
      "cell_type": "code",
      "metadata": {
        "id": "leSeitbpGkWH"
      },
      "source": [
        "F=np.arange(1,51).reshape(5,10)\n",
        "print(F)\n",
        "print(F.max())\n",
        "print(F.max(axis=0)) #column vise maximum\n",
        "print(F.max(axis=1)) #row vise maximum\n",
        "S=np.arange(1,17).reshape(4,4)\n",
        "print(S)\n",
        "print(S.diagonal())"
      ],
      "execution_count": null,
      "outputs": []
    }
  ]
}