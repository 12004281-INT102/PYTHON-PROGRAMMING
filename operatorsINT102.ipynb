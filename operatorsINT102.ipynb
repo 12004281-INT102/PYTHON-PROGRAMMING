{
  "nbformat": 4,
  "nbformat_minor": 0,
  "metadata": {
    "colab": {
      "name": "operatorsINT102.ipynb",
      "provenance": [],
      "authorship_tag": "ABX9TyMV5HXxiUNSFYYt+ZCDcouq",
      "include_colab_link": true
    },
    "kernelspec": {
      "name": "python3",
      "display_name": "Python 3"
    },
    "language_info": {
      "name": "python"
    }
  },
  "cells": [
    {
      "cell_type": "markdown",
      "metadata": {
        "id": "view-in-github",
        "colab_type": "text"
      },
      "source": [
        "<a href=\"https://colab.research.google.com/github/12004281-INT102/PYTHON-PROGRAMMING/blob/main/operatorsINT102.ipynb\" target=\"_parent\"><img src=\"https://colab.research.google.com/assets/colab-badge.svg\" alt=\"Open In Colab\"/></a>"
      ]
    },
    {
      "cell_type": "markdown",
      "metadata": {
        "id": "X7e8AnFg1DYR"
      },
      "source": [
        "**RELATION(COMPARISSION) OPERATOR**-Compares two variable and output will be true/flase, ( <,>,<=,>=, !=,==)"
      ]
    },
    {
      "cell_type": "code",
      "metadata": {
        "id": "eC8qh-5-5LBz"
      },
      "source": [
        "X=10\n",
        "Y=11\n",
        "Z=10\n",
        "P=X<Y\n",
        "Q=Y>Z\n",
        "R=X == Y\n",
        "T=Y !=Z\n",
        "print('Result of X<Y is=',P)\n",
        "print(\"Result of Y> Z is =\",Q)\n",
        "print(\"Result of X == Y is=\",R)\n",
        "print(\"Result of Y !=Z is=\",T)"
      ],
      "execution_count": null,
      "outputs": []
    },
    {
      "cell_type": "markdown",
      "metadata": {
        "id": "hk0NJoKP6Rdv"
      },
      "source": [
        "**LOGICAL OPERATORS**-Combines two or more conditional expression and returns the result as true or flase(and, or, not)"
      ]
    },
    {
      "cell_type": "code",
      "metadata": {
        "id": "psi3VYAf7m_h"
      },
      "source": [
        "A=10\n",
        "B=20\n",
        "C=19\n",
        "X=not ((A<B or B>C) and (C !=A and B !=C))\n",
        "print(X)\n"
      ],
      "execution_count": null,
      "outputs": []
    },
    {
      "cell_type": "markdown",
      "metadata": {
        "id": "t1BNCcZC-18R"
      },
      "source": [
        "**MEMBERSHIP OPERATOR**-whether the input value is part of qiven sequence(list,tuple,set,string,range())--(in, not in)"
      ]
    },
    {
      "cell_type": "code",
      "metadata": {
        "id": "61VgEb9jBJNE"
      },
      "source": [
        " L=[1,2,3,4,5]\n",
        " 6 in L\n"
      ],
      "execution_count": null,
      "outputs": []
    },
    {
      "cell_type": "code",
      "metadata": {
        "id": "EstUZJ_wBYQS"
      },
      "source": [
        " 'k' in 'KESIYA'"
      ],
      "execution_count": null,
      "outputs": []
    },
    {
      "cell_type": "code",
      "metadata": {
        "id": "RRIDUtouBmmT"
      },
      "source": [
        " x=5\n",
        " x in (1,2,4,6,7,8,9)"
      ],
      "execution_count": null,
      "outputs": []
    },
    {
      "cell_type": "code",
      "metadata": {
        "id": "aJ3FZqC2C4mC"
      },
      "source": [
        " x=5\n",
        " x not in (1,2,4,6,7,8,9)"
      ],
      "execution_count": null,
      "outputs": []
    },
    {
      "cell_type": "code",
      "metadata": {
        "id": "DpGpebcCDa0-"
      },
      "source": [
        "for x in range(10):\n",
        "  print(x)\n",
        "for y in range(1,20):\n",
        "  print(y)"
      ],
      "execution_count": null,
      "outputs": []
    },
    {
      "cell_type": "markdown",
      "metadata": {
        "id": "Cp29SkKFEPy5"
      },
      "source": [
        "**BITWISE OPERATOR**-perform bitwise operations on bits saved in variables\n",
        "(&-bitwiseAND, |-bitwiseOR,~ (bitwiseCompliment(not), ^ (bitwiseXOR),<< ,(Leftshift),>> (bitwiseRightShift), ^(bitwiseXOR)"
      ]
    },
    {
      "cell_type": "code",
      "metadata": {
        "id": "VB13Tf-nHOBY"
      },
      "source": [
        " X=9\n",
        " Y=10\n",
        "print(X & Y)"
      ],
      "execution_count": null,
      "outputs": []
    },
    {
      "cell_type": "code",
      "metadata": {
        "id": "X8t9vveoEwhA"
      },
      "source": [
        "x=10\n",
        "bin(x)\n",
        "int(0b1010)"
      ],
      "execution_count": null,
      "outputs": []
    }
  ]
}