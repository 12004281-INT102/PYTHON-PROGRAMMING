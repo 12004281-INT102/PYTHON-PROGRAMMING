{
  "nbformat": 4,
  "nbformat_minor": 0,
  "metadata": {
    "colab": {
      "name": "string_INT102.ipynb",
      "provenance": [],
      "collapsed_sections": [],
      "authorship_tag": "ABX9TyOD17BDYuIz9nHmx/imF65V",
      "include_colab_link": true
    },
    "kernelspec": {
      "name": "python3",
      "display_name": "Python 3"
    },
    "language_info": {
      "name": "python"
    }
  },
  "cells": [
    {
      "cell_type": "markdown",
      "metadata": {
        "id": "view-in-github",
        "colab_type": "text"
      },
      "source": [
        "<a href=\"https://colab.research.google.com/github/12004281-INT102/PYTHON-PROGRAMMING/blob/main/string_INT102.ipynb\" target=\"_parent\"><img src=\"https://colab.research.google.com/assets/colab-badge.svg\" alt=\"Open In Colab\"/></a>"
      ]
    },
    {
      "cell_type": "markdown",
      "metadata": {
        "id": "mf0mc6UG4WHw"
      },
      "source": [
        "**Strings**-Sequence of character(each character represent a byte) \"\",'',''' '''"
      ]
    },
    {
      "cell_type": "code",
      "metadata": {
        "id": "UdjvMFzj5nkI"
      },
      "source": [
        "S1='''Kesiya\n",
        "S\n",
        "Joseph'''\n",
        "print(S1)"
      ],
      "execution_count": null,
      "outputs": []
    },
    {
      "cell_type": "code",
      "metadata": {
        "id": "Gyzp01CQ581T"
      },
      "source": [
        "#count total number of characters--len()\n",
        "print(len(S1))"
      ],
      "execution_count": null,
      "outputs": []
    },
    {
      "cell_type": "code",
      "metadata": {
        "id": "7HFZ-_Kc6V3B"
      },
      "source": [
        "#reading/accesing a character from string\n",
        "#index-position or location of character- always start with 0\n",
        "#index value is used by index operator [] to access required character\n",
        "# string[index value]\n",
        "#index of string can be negative-python will read from last ; -1 is the index of last character\n",
        "#space is also considered a index\n",
        "S='Kesiya S Joseph'\n",
        "print(S[4])\n",
        "print(S[-4])"
      ],
      "execution_count": null,
      "outputs": []
    },
    {
      "cell_type": "code",
      "metadata": {
        "colab": {
          "base_uri": "https://localhost:8080/"
        },
        "id": "tkmZtDki8Mz3",
        "outputId": "264b1cb1-d5c6-4d90-e759-85222a6ac9ee"
      },
      "source": [
        "#string slicing-to read set of character and divide the string into various string\n",
        "#syntax string[star_index:end_index:stepdiff]\n",
        "S='Kesiya S Joseph'\n",
        "#slice S into 3 sub string S1,S2,S3\n",
        "S1=S[0:6]\n",
        "S2=S[7:8]\n",
        "S3=S[9:15]\n",
        "print(S1)\n",
        "print(S2)\n",
        "print(S3)"
      ],
      "execution_count": 8,
      "outputs": [
        {
          "output_type": "stream",
          "name": "stdout",
          "text": [
            "Kesiya\n",
            "S\n",
            "Joseph\n"
          ]
        }
      ]
    },
    {
      "cell_type": "code",
      "metadata": {
        "id": "TD3T9pTv-NCx"
      },
      "source": [
        "S=\"This is section M2061 with group G1\"\n",
        "print(S[10:20])\n"
      ],
      "execution_count": null,
      "outputs": []
    },
    {
      "cell_type": "code",
      "metadata": {
        "id": "hMhvW4KD-vZ6"
      },
      "source": [
        "#slicing shortcut\n",
        "S='Kesiya S Joseph'\n",
        "print(S[:])\n",
        "print(S[4:])\n",
        "print(S[:4])\n",
        "print(S[::2])\n",
        "print(S[-1:-4:-2])\n",
        "#reverse of stirng \n",
        "print(S[::-1])"
      ],
      "execution_count": null,
      "outputs": []
    },
    {
      "cell_type": "code",
      "metadata": {
        "id": "VWkATjCDAgDB"
      },
      "source": [
        "#string concentenation-combining to or more strings\n",
        "#(Strings are immutable-cannot add or remove from orginal string-modification can be done and saved in another string)\n",
        "#to combine + operator is used\n",
        "S='Apple'\n",
        "T='Orange'\n",
        "U='Grapes'\n",
        "X=S+T+U \n",
        "print(X)\n",
        "#to add space do manually\n",
        "X1=S+\" \"+T+\" \"+U\n",
        "print(X1)"
      ],
      "execution_count": null,
      "outputs": []
    },
    {
      "cell_type": "code",
      "metadata": {
        "id": "2dTr3RwkB-j-"
      },
      "source": [
        "#string repetition-repeate the same string\n",
        "# * strig repetition operator\n",
        "x='kesiya'\n",
        "print(x*3)"
      ],
      "execution_count": null,
      "outputs": []
    },
    {
      "cell_type": "code",
      "metadata": {
        "id": "doaujPz3Ck1m"
      },
      "source": [
        "#python inbuilt library \n",
        "import string as str\n",
        "# . operator\n",
        "print(str.ascii_lowercase)\n",
        "# or could also go as\n",
        "# A=str.ascii_lowercase\n",
        "#print(A)---will result same\n",
        "C=str.digits\n",
        "print(C)\n",
        "name=\"KESIYA S JOSEPH\"\n",
        "print(str.capwords(name))\n",
        "print(str.whitespace)"
      ],
      "execution_count": null,
      "outputs": []
    },
    {
      "cell_type": "code",
      "metadata": {
        "id": "lyM6flBQEu1N"
      },
      "source": [
        "#string methods -perform various operations on string \n",
        "#len()\n",
        "#lower()-converts string to lower case\n",
        "S='KESIYA S JOSEPH'\n",
        "X=S.lower()\n",
        "print(X)\n",
        "#upper()-coverts in upparcase\n",
        "Y='kesiya s joseph'\n",
        "Z=Y.upper()\n",
        "print(Z)\n",
        "#swapcase()-to change uppercase to lowecase and vise versa\n",
        "Q=\"Kesiya S\"\n",
        "P=Q.swapcase()\n",
        "print(P)"
      ],
      "execution_count": null,
      "outputs": []
    },
    {
      "cell_type": "code",
      "metadata": {
        "id": "Uf72ehwcHr2B"
      },
      "source": [
        "#title()\n",
        "S='kesiya s joseph'\n",
        "P=S.title()\n",
        "print(P)\n",
        "#capitalize()\n",
        "Q=S.capitalize()\n",
        "print(Q)\n",
        "#casefold()-convert to lower\n",
        "K='Kesiya'\n",
        "print(K.casefold())\n",
        "#count()-counts how many character in given string\n",
        "A=S.count('e')\n",
        "print(A)\n",
        "fruit='apple orange apple mango apple'\n",
        "print(fruit.count('apple',5,20))"
      ],
      "execution_count": null,
      "outputs": []
    },
    {
      "cell_type": "code",
      "metadata": {
        "id": "VyGSurbzJmEk"
      },
      "source": [
        "#replace()-replace thegiven character and word in string\n",
        "FRUIT=fruit.replace('apple','grapes')\n",
        "print(FRUIT)\n",
        "#find()-search the character or word in string and returns the index of first occurnance of character\n",
        "S='abacca'\n",
        "print(S.find('a'))\n",
        "#rfind()-search the occurance of last index of character\n",
        "print(S.rfind('a'))\n",
        "#index()-returns the index of first occurance\n",
        "#rindex()-returns the index of lasr occurance\n",
        "print(S.index('a',0,4))\n",
        "print(S.rindex('a'))"
      ],
      "execution_count": null,
      "outputs": []
    },
    {
      "cell_type": "code",
      "metadata": {
        "id": "gs7J7ntJPDK1"
      },
      "source": [
        ""
      ],
      "execution_count": null,
      "outputs": []
    }
  ]
}