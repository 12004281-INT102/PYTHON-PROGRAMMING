{
  "nbformat": 4,
  "nbformat_minor": 0,
  "metadata": {
    "colab": {
      "name": "List.ipynb",
      "provenance": [],
      "collapsed_sections": [],
      "authorship_tag": "ABX9TyMHqigJn8YIiSjibJa6RDGp",
      "include_colab_link": true
    },
    "kernelspec": {
      "name": "python3",
      "display_name": "Python 3"
    },
    "language_info": {
      "name": "python"
    }
  },
  "cells": [
    {
      "cell_type": "markdown",
      "metadata": {
        "id": "view-in-github",
        "colab_type": "text"
      },
      "source": [
        "<a href=\"https://colab.research.google.com/github/12004281-INT102/PYTHON-PROGRAMMING/blob/main/List.ipynb\" target=\"_parent\"><img src=\"https://colab.research.google.com/assets/colab-badge.svg\" alt=\"Open In Colab\"/></a>"
      ]
    },
    {
      "cell_type": "markdown",
      "metadata": {
        "id": "x_dgr2_w5_oL"
      },
      "source": [
        "Squence of values-can store any type of values"
      ]
    },
    {
      "cell_type": "code",
      "metadata": {
        "id": "7vjYHdey6hpG"
      },
      "source": [
        "#list=[]--empty list\n",
        "fruit=['apple','grapes','banana','kiwi','orange','lichi']\n",
        "type(fruit)"
      ],
      "execution_count": null,
      "outputs": []
    },
    {
      "cell_type": "markdown",
      "metadata": {
        "id": "M18c2U7S7Eg5"
      },
      "source": [
        "List can be created i 2 ways. 1-direct values.--2. by list()"
      ]
    },
    {
      "cell_type": "code",
      "metadata": {
        "id": "gyj8T_9X7Rjf"
      },
      "source": [
        "fruit=list(['apple','grapes','banana','kiwi','orange','lichi'])\n",
        "print(fruit)"
      ],
      "execution_count": null,
      "outputs": []
    },
    {
      "cell_type": "code",
      "metadata": {
        "id": "Wub__y5x7gyD"
      },
      "source": [
        "L=[1,2,3,4,5,6,7,8,9,10]\n",
        "print(L)\n",
        "M=list(range(1,11))\n",
        "print(M)"
      ],
      "execution_count": null,
      "outputs": []
    },
    {
      "cell_type": "code",
      "metadata": {
        "id": "5FGdW3E27yFu"
      },
      "source": [
        "N=list(\"1234567\")\n",
        "print(N)\n",
        "student=[12004281,'Kesiya S joseph','M2041',19,8.04]\n",
        "print(student)"
      ],
      "execution_count": null,
      "outputs": []
    },
    {
      "cell_type": "markdown",
      "metadata": {
        "id": "ytGEqiI_857V"
      },
      "source": [
        "list is mutable-add or remove elemnts from list"
      ]
    },
    {
      "cell_type": "code",
      "metadata": {
        "id": "UI3U94hZ9QGA"
      },
      "source": [
        "#accessing the elements from list\n",
        "#use index operator []with index value\n",
        "print(student[1])"
      ],
      "execution_count": null,
      "outputs": []
    },
    {
      "cell_type": "code",
      "metadata": {
        "id": "FfMzWC7N-h83"
      },
      "source": [
        "#list slicing-divide the list into various list\n",
        "#            -accessing the sequance of element from list\n",
        "#listnamr[startindex:endindex:stepdifference] step diff is optional\n",
        "L=[1,2,3,4,5,6,7,8,9,10]\n",
        "print(L[4:8])"
      ],
      "execution_count": null,
      "outputs": []
    },
    {
      "cell_type": "code",
      "metadata": {
        "colab": {
          "base_uri": "https://localhost:8080/"
        },
        "id": "vxO9_HNr_3i8",
        "outputId": "eb7fbc11-9e20-4732-ab6a-7329d84acae3"
      },
      "source": [
        "fruit=list(['apple','grapes','banana','kiwi','orange','lichi'])\n",
        "newlist=fruit[0:6:5]\n",
        "print(newlist)"
      ],
      "execution_count": 11,
      "outputs": [
        {
          "output_type": "stream",
          "name": "stdout",
          "text": [
            "['apple', 'lichi']\n"
          ]
        }
      ]
    },
    {
      "cell_type": "code",
      "metadata": {
        "id": "B4HFipetA5pG"
      },
      "source": [
        "#slicing shortcuts\n",
        "L=[1,2,3,4,5,6,7,8,9,10]\n",
        "print(L[:7])\n",
        "print(L[6:])\n",
        "print(L[::3])\n",
        "print(L[:])"
      ],
      "execution_count": null,
      "outputs": []
    },
    {
      "cell_type": "code",
      "metadata": {
        "colab": {
          "base_uri": "https://localhost:8080/"
        },
        "id": "7Cti61pGCvBP",
        "outputId": "00b2808d-8551-4b43-bd3d-373322523092"
      },
      "source": [
        "fruit=list(['apple','grapes','banana','kiwi','orange','lichi'])\n",
        "newfruit=fruit[-1:-6:-1]\n",
        "print(newfruit)"
      ],
      "execution_count": 16,
      "outputs": [
        {
          "output_type": "stream",
          "name": "stdout",
          "text": [
            "['lichi', 'orange', 'kiwi', 'banana', 'grapes']\n"
          ]
        }
      ]
    },
    {
      "cell_type": "markdown",
      "metadata": {
        "id": "6DTIbnuehiol"
      },
      "source": [
        "+ plus and * operator in list-- + join list and * to replicate the element in list"
      ]
    },
    {
      "cell_type": "code",
      "metadata": {
        "id": "lo-re_Psh2s0"
      },
      "source": [
        "L1=[1,2,3,4,5]\n",
        "L2=[6,7,8,9,0]\n",
        "L3=L1+L2\n",
        "print(L3)\n",
        "L4=L1 * 2\n",
        "print(L4)"
      ],
      "execution_count": null,
      "outputs": []
    },
    {
      "cell_type": "markdown",
      "metadata": {
        "id": "rPLwow2dibj8"
      },
      "source": [
        "+ in and is operator--in: to know whether element belong to list.-Is:check if two variable refer to same object of difference"
      ]
    },
    {
      "cell_type": "markdown",
      "metadata": {
        "id": "Xll-xkDji2Tr"
      },
      "source": [
        "+ del operator-remove the element or list"
      ]
    },
    {
      "cell_type": "code",
      "metadata": {
        "id": "VRCQ1k3Okf2W"
      },
      "source": [
        "#list methods: performs operation on list\n",
        "# 1: append method-append()-adds an element at the end of list. \n",
        "# syantax: list.append(element)\n",
        "L=[]\n",
        "L.append(1)\n",
        "L.append('a')\n",
        "L.append(100)\n",
        "print(L)\n",
        "L.append('b')\n",
        "print(L)"
      ],
      "execution_count": null,
      "outputs": []
    },
    {
      "cell_type": "code",
      "metadata": {
        "id": "6QdyUa-3lZWA"
      },
      "source": [
        "#2: clear method-remove all the items from list\n",
        "#3: count-returns the number of times the element appears\n",
        "#4: copy-returns shallow copy of of list\n",
        "#5: extend-add list at the end of previous list\n",
        "L=[1,2,3,4,5,6]\n",
        "L.clear()   #clears just elements\n",
        "print(L)\n",
        "L1=[1,2,2,4,6,4,9,7,5,4,2]\n",
        "L1.count(2)\n",
        "L2=['a','b','c']\n",
        "B=L2.copy()\n",
        "print(B)\n",
        "L1.extend(L2)\n",
        "print(L1)"
      ],
      "execution_count": null,
      "outputs": []
    },
    {
      "cell_type": "code",
      "metadata": {
        "id": "LUdrqIgWn5jP"
      },
      "source": [
        "#6 index-returns the first occurance of the element\n",
        "#7 insert-insert a new element at given index value\n",
        "#8 pop- remove the element from given index, if no index mention by default it will remove last\n",
        "#9 remove-remove the element from list only first occurance\n",
        "#10 reverse-will reverse the element of list\n",
        "#11 sort-arrange list in ascending or decending order, by default ascending\n",
        "L=[1,2,3,4,5,6]\n",
        "print(L.index(4))\n",
        "L.pop(1)\n",
        "L.pop()\n",
        "print(L)\n",
        "L1=[1,2,2,4,6,4,9,7,5,4,2]\n",
        "L1.remove(2)\n",
        "print(L1)\n",
        "L2=['a','b','c']\n",
        "L2.insert(1,'e')\n",
        "print(L2)\n",
        "L3=[23,43,12,76,68,56,99,34]\n",
        "L3.sort()\n",
        "print(L3)\n",
        "L3.sort(reverse=True)\n",
        "print(L3)\n",
        "L3.reverse()\n",
        "print(L3)"
      ],
      "execution_count": null,
      "outputs": []
    },
    {
      "cell_type": "markdown",
      "metadata": {
        "id": "cSShqzBQuZ9O"
      },
      "source": [
        "+ process the list using python built in method"
      ]
    },
    {
      "cell_type": "code",
      "metadata": {
        "id": "ZXfs80y1ug8a"
      },
      "source": [
        "#len()-count total number of elements of list\n",
        "#max()-returns the maximun value of list\n",
        "#min()-returns the minimum value of lisy\n",
        "#sum()-returns the sum of all the elements of list\n",
        "#del()-delete the list object with list element\n",
        "L=[1,2,3,4,5]\n",
        "print(len(L))\n",
        "print(min(L))\n",
        "print(max(L))\n",
        "del(L)"
      ],
      "execution_count": null,
      "outputs": []
    },
    {
      "cell_type": "markdown",
      "metadata": {
        "id": "3NHu20RYvW0T"
      },
      "source": [
        "+ tansvering list using for loop"
      ]
    },
    {
      "cell_type": "code",
      "metadata": {
        "id": "r_fHw_SJvdOt"
      },
      "source": [
        "# for interate-var in list:\n",
        "   #body of loop\n",
        "#print all the elements one by one\n",
        "L=[1,2,3,4,5,6,]\n",
        "for a in L:\n",
        "  print(a,end=' ')\n",
        "#print sum of elements\n",
        "L=[1,2,3,4,5,6,]\n",
        "sum=0\n",
        "for x in L:\n",
        "  sum=sum+x\n",
        "print('required sum=',sum)  "
      ],
      "execution_count": null,
      "outputs": []
    },
    {
      "cell_type": "code",
      "metadata": {
        "id": "aLdTOlIDxlYu"
      },
      "source": [
        "#print max and mim value without built in method\n",
        "L=[1,2,3,4,5,6]\n",
        "MX=L[0]\n",
        "for x in L:\n",
        "  if (MX < x):\n",
        "    MX=x\n",
        "print('Maximun value=',MX)   \n",
        "MN=L[0]\n",
        "for y in L:\n",
        "  if(MN > y):\n",
        "    MN=y \n",
        "print('Minimum value=',MN)     "
      ],
      "execution_count": null,
      "outputs": []
    },
    {
      "cell_type": "code",
      "metadata": {
        "id": "VqnbJX5O0Q3Q"
      },
      "source": [
        "#print how many times a given value occurs without count method\n",
        "a=int(input('enter the value of a='))\n",
        "count=0\n",
        "L=[1,2,3,3,3,4,5,6]\n",
        "for x in L:\n",
        "  if(x == a):\n",
        "    count=count+1\n",
        "    result=True\n",
        "if(result == True):\n",
        "  print(a,'appeared in list',count)  \n",
        "else:\n",
        "  print(a,'does not exist')"
      ],
      "execution_count": null,
      "outputs": []
    },
    {
      "cell_type": "markdown",
      "metadata": {
        "id": "9FFNASNo2ckW"
      },
      "source": [
        "+ list comprehensions-create new list using exiting list sequence "
      ]
    },
    {
      "cell_type": "code",
      "metadata": {
        "colab": {
          "base_uri": "https://localhost:8080/"
        },
        "id": "oOoR1PlX4E8I",
        "outputId": "fb2e8fd6-84f4-4d08-d3f3-b03cdf1de79e"
      },
      "source": [
        "L=[1,2,3,4,5,6]\n",
        "L1=[x for x in L if x % 2 == 0]\n",
        "L2=[x for x in L if x % 2 != 0]\n",
        "print(L1)\n",
        "print(L2)"
      ],
      "execution_count": 51,
      "outputs": [
        {
          "output_type": "stream",
          "name": "stdout",
          "text": [
            "[2, 4, 6]\n",
            "[1, 3, 3, 3, 5]\n"
          ]
        }
      ]
    }
  ]
}