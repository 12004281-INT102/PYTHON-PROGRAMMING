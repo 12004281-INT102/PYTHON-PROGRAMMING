{
  "nbformat": 4,
  "nbformat_minor": 0,
  "metadata": {
    "colab": {
      "name": "Python_practice que",
      "provenance": [],
      "collapsed_sections": [],
      "authorship_tag": "ABX9TyNYj6sJda7t4QoqaNVuf4lp",
      "include_colab_link": true
    },
    "kernelspec": {
      "name": "python3",
      "display_name": "Python 3"
    },
    "language_info": {
      "name": "python"
    }
  },
  "cells": [
    {
      "cell_type": "markdown",
      "metadata": {
        "id": "view-in-github",
        "colab_type": "text"
      },
      "source": [
        "<a href=\"https://colab.research.google.com/github/12004281-INT102/PYTHON-PROGRAMMING/blob/main/Python_practice_que.ipynb\" target=\"_parent\"><img src=\"https://colab.research.google.com/assets/colab-badge.svg\" alt=\"Open In Colab\"/></a>"
      ]
    },
    {
      "cell_type": "code",
      "metadata": {
        "id": "_UuzpvQlMdnk"
      },
      "source": [
        ""
      ],
      "execution_count": null,
      "outputs": []
    },
    {
      "cell_type": "markdown",
      "metadata": {
        "id": "EmtSM83FMfAl"
      },
      "source": [
        "**PRACTICE QUESTIONS**\n",
        "**-UNIT 1**"
      ]
    },
    {
      "cell_type": "markdown",
      "metadata": {
        "id": "B-6nnf3UMrJl"
      },
      "source": [
        "**1:VOLUME OF CYLINDER AND CONE**"
      ]
    },
    {
      "cell_type": "code",
      "metadata": {
        "id": "EumMgh1XNPb-"
      },
      "source": [
        "R1=eval(input('Enter the value of radius='))\n",
        "V1=4/3 * 3.14 * R1**3\n",
        "print(\"Volume of cylinder with given radius is\", round(V1,2)) \n",
        "R2=eval(input('Enter the value of radius='))\n",
        "H2=eval(input('Enter the value of height='))\n",
        "V2=1/3 * 3.14 * R**2 * H2\n",
        "print(\"Volume of cylinder with given radius and height is\", round(V2,2)) "
      ],
      "execution_count": null,
      "outputs": []
    },
    {
      "cell_type": "markdown",
      "metadata": {
        "id": "UBQ8YA6fQ5BT"
      },
      "source": [
        "**2:TO CONVERT KILOMETER TO MILE**"
      ]
    },
    {
      "cell_type": "code",
      "metadata": {
        "id": "teLEs4XGRFoy"
      },
      "source": [
        "D1=eval(input('Enter the value of distance in kilometer='))\n",
        "D2= D1 * 0.621\n",
        "print('Distance in mile is=', round(D2,3),\"mile\")"
      ],
      "execution_count": null,
      "outputs": []
    },
    {
      "cell_type": "markdown",
      "metadata": {
        "id": "vF27V7xVTfx7"
      },
      "source": [
        "**3:COVERT WEIGHT GIVEN IN KILOGRAM TO POUND AND VISE VERSA**"
      ]
    },
    {
      "cell_type": "code",
      "metadata": {
        "id": "LUu9LBobWDnh"
      },
      "source": [
        "W1=eval(input('Enter value of weight in kilogram='))\n",
        "W2= W1 * 2.205\n",
        "print('Weight in pounds is=',round(W2,3),'pound')\n",
        "W3=eval(input('Enter value of weight in pound='))\n",
        "W4= W3/2.205\n",
        "print('Weight in kilogram is=',round(W4,3),'kg')"
      ],
      "execution_count": null,
      "outputs": []
    },
    {
      "cell_type": "markdown",
      "metadata": {
        "id": "r5TIJl1LYCSM"
      },
      "source": [
        "**4:TO PRINT TYPE OF VARIABLE**"
      ]
    },
    {
      "cell_type": "code",
      "metadata": {
        "id": "Oz6d-2CSYYwG"
      },
      "source": [
        "A=input('Enter the variable to find its type=')\n",
        "B=type(A)\n",
        "print(\"Type of variable of A is\",B)"
      ],
      "execution_count": null,
      "outputs": []
    },
    {
      "cell_type": "code",
      "metadata": {
        "id": "_cCuD4elYQcI"
      },
      "source": [
        ""
      ],
      "execution_count": null,
      "outputs": []
    }
  ]
}