{
  "nbformat": 4,
  "nbformat_minor": 0,
  "metadata": {
    "colab": {
      "name": "array operations.ipynb",
      "provenance": [],
      "authorship_tag": "ABX9TyNsjm++P0vr6D7WNFz1iByk",
      "include_colab_link": true
    },
    "kernelspec": {
      "name": "python3",
      "display_name": "Python 3"
    },
    "language_info": {
      "name": "python"
    }
  },
  "cells": [
    {
      "cell_type": "markdown",
      "metadata": {
        "id": "view-in-github",
        "colab_type": "text"
      },
      "source": [
        "<a href=\"https://colab.research.google.com/github/12004281-INT102/PYTHON-PROGRAMMING/blob/main/array_operations.ipynb\" target=\"_parent\"><img src=\"https://colab.research.google.com/assets/colab-badge.svg\" alt=\"Open In Colab\"/></a>"
      ]
    },
    {
      "cell_type": "markdown",
      "metadata": {
        "id": "a-m3qyfNA2yj"
      },
      "source": [
        "Slicing of 2d array"
      ]
    },
    {
      "cell_type": "code",
      "metadata": {
        "id": "3OIDbemvAhJk"
      },
      "source": [
        "import numpy as np"
      ],
      "execution_count": 1,
      "outputs": []
    },
    {
      "cell_type": "code",
      "metadata": {
        "id": "9onIVyQhAlTv"
      },
      "source": [
        "A=np.arange(27).reshape(3,9)\n",
        "print(A)"
      ],
      "execution_count": null,
      "outputs": []
    },
    {
      "cell_type": "code",
      "metadata": {
        "colab": {
          "base_uri": "https://localhost:8080/"
        },
        "id": "SHbtIu9wA7KU",
        "outputId": "9071e184-1289-4279-8a2a-8c790b72f58b"
      },
      "source": [
        "#array_name[start_row_index:end_row_index , start_col_index:end_col_index] # end always n-1\n",
        "print(A[1:3,6:9])"
      ],
      "execution_count": 6,
      "outputs": [
        {
          "output_type": "stream",
          "name": "stdout",
          "text": [
            "[[15 16]\n",
            " [24 25]]\n"
          ]
        }
      ]
    },
    {
      "cell_type": "code",
      "metadata": {
        "id": "mHRyv2d9CPk-"
      },
      "source": [
        "#array operations(mathematicals ) on both 1D and 2D"
      ],
      "execution_count": null,
      "outputs": []
    },
    {
      "cell_type": "code",
      "metadata": {
        "id": "4w3814peCXY_"
      },
      "source": [
        "A=np.array([20,37,53,62,97,83,26,44,29,17,81,65])\n",
        "print(A)\n",
        "B=A + 10\n",
        "print(B)"
      ],
      "execution_count": null,
      "outputs": []
    },
    {
      "cell_type": "code",
      "metadata": {
        "colab": {
          "base_uri": "https://localhost:8080/"
        },
        "id": "EyEXBLz8DCJZ",
        "outputId": "4387cf28-d7dc-43f9-9473-baf5fd055380"
      },
      "source": [
        "C = B-6\n",
        "print(C)\n",
        "D= C* 4\n",
        "print(D)\n",
        "sqr=A ** 2\n",
        "print(sqr)"
      ],
      "execution_count": 47,
      "outputs": [
        {
          "output_type": "stream",
          "name": "stdout",
          "text": [
            "[ 24  41  57  66 101  87  30  48  33  21  85  69]\n",
            "[ 96 164 228 264 404 348 120 192 132  84 340 276]\n",
            "[ 400 1369 2809 3844 9409 6889  676 1936  841  289 6561 4225]\n"
          ]
        }
      ]
    },
    {
      "cell_type": "code",
      "metadata": {
        "colab": {
          "base_uri": "https://localhost:8080/"
        },
        "id": "OpVOhCjZDpE4",
        "outputId": "613aac3e-e380-4e39-bb47-ad2c3cafe3f9"
      },
      "source": [
        "A1=np.array([1,2,3,4,5])\n",
        "A2=np.array([6,7,8,9,10])\n",
        "A3=A1+A2\n",
        "print(A3)\n",
        "A4=np.add(A1,A2)\n",
        "print(A4)\n",
        "A5=A1-A2\n",
        "print(A5)\n",
        "A6=np.subtract(A1,A2)\n",
        "print(A6)\n",
        "A7=np.multiply(A4,A6) # or A7= A4 * A6\n",
        "print(A7)\n",
        "A8=np.divide(A7,A3) # or A7/A3 for not float A7 // A3\n",
        "print(A8)"
      ],
      "execution_count": 21,
      "outputs": [
        {
          "output_type": "stream",
          "name": "stdout",
          "text": [
            "[ 7  9 11 13 15]\n",
            "[ 7  9 11 13 15]\n",
            "[-5 -5 -5 -5 -5]\n",
            "[-5 -5 -5 -5 -5]\n",
            "[-35 -45 -55 -65 -75]\n",
            "[-5. -5. -5. -5. -5.]\n"
          ]
        }
      ]
    },
    {
      "cell_type": "code",
      "metadata": {
        "id": "mBEdfCDrFlgZ"
      },
      "source": [
        "T=np.array([10,20,30,40,50,60,70,80,90,100])\n",
        "print(T.max())\n",
        "print(T.min())\n",
        "print(T.sum())\n",
        "print(T.mean())\n",
        "print(int(T.mean()))\n",
        "print(T.std())\n",
        "print(T.var())\n",
        "print(T.prod())"
      ],
      "execution_count": null,
      "outputs": []
    },
    {
      "cell_type": "code",
      "metadata": {
        "id": "w8T7LGYrGgRI"
      },
      "source": [
        "S=np.array([[1,2,3],[4,5,6],[7,8,9]])\n",
        "print(S)\n",
        "print(S.max())\n",
        "print(S.max(axis=1)) #max in row wise\n",
        "print(S.max(axis=0)) # max in column wise\n",
        "print(S.sum())\n",
        "print(S.sum(axis=1))\n",
        "print(S.sum(axis=0))\n",
        "print(S.prod())\n",
        "print(S.prod(axis=1))\n",
        "print(S.prod(axis=0))\n",
        "print(S.diagonal())\n",
        "print(S.transpose())"
      ],
      "execution_count": null,
      "outputs": []
    },
    {
      "cell_type": "code",
      "metadata": {
        "id": "nzMRMzuFILFH"
      },
      "source": [
        "M=np.arange(1,10).reshape(3,3)\n",
        "print(M)\n",
        "N=M+S\n",
        "print(N)\n",
        "N=np.add(M,S)\n",
        "print(N)"
      ],
      "execution_count": null,
      "outputs": []
    },
    {
      "cell_type": "code",
      "metadata": {
        "id": "Qy3u4RRmIsAF"
      },
      "source": [
        "# in 2D array two type of multiplication \n",
        "#1 element wise ( * )\n",
        "#2 matrix wise( @ or dot)"
      ],
      "execution_count": null,
      "outputs": []
    },
    {
      "cell_type": "code",
      "metadata": {
        "id": "3WMD3mvCJJRZ"
      },
      "source": [
        "a=np.array([[10,20,30],[40,50,60],[70,80,90]])\n",
        "b=np.array([[5,6,7],[8,9,4],[1,2,3]])\n",
        "c= a* b\n",
        "print(c)\n",
        "c= a @ b # or c=a.dot(b)\n",
        "print(c)"
      ],
      "execution_count": null,
      "outputs": []
    },
    {
      "cell_type": "code",
      "metadata": {
        "id": "SysW4occKJ0f"
      },
      "source": [
        "A=np.array([ [96 ,164 ,228] ,[264 ,404 ,348] ,[120 ,192 ,132] , [84 ,340 ,276]])\n",
        "print(A)\n",
        "B=np.sort(A,axis=0)\n",
        "print(B)"
      ],
      "execution_count": null,
      "outputs": []
    },
    {
      "cell_type": "code",
      "metadata": {
        "id": "ltoYVLU5LyBE"
      },
      "source": [
        "A=np.array([ [96 ,164 ,228] ,[264 ,404 ,348] ,[120 ,192 ,132] , [84 ,340 ,276]])\n",
        "#print min without function\n",
        "print(A)\n",
        "min=A[0][0]\n",
        "for x in range(4):\n",
        "  for y in range(3):\n",
        "    if(min>A[x][y]):\n",
        "      min=A[x][y]\n",
        "print('Minimum value',min)"
      ],
      "execution_count": null,
      "outputs": []
    },
    {
      "cell_type": "code",
      "metadata": {
        "id": "UHJGzQqMOydd"
      },
      "source": [
        "#copying and viewing array\n",
        "# 2 types- shallow-copy() and deep-view() \n",
        "A=np.array([1,2,3,4,5,6,7,8,9,10])\n",
        "print(A)\n",
        "B=A.copy()\n",
        "print(B) #shallow copy means a change in A wont affect B and vise versa\n",
        "B[0]=20\n",
        "print(B)\n",
        "C=A.view()\n",
        "print(C) #deep copy means a change in A made, the change will be there in C\n",
        "A[0]=19\n",
        "print(A)\n",
        "print(C)"
      ],
      "execution_count": null,
      "outputs": []
    },
    {
      "cell_type": "code",
      "metadata": {
        "id": "tLgx36IqQWer"
      },
      "source": [
        "#count the total occurance of given elements\n",
        "#search the given elements from 1D or 2D\n",
        "#print the max value from 1D and 2D "
      ],
      "execution_count": null,
      "outputs": []
    },
    {
      "cell_type": "code",
      "metadata": {
        "colab": {
          "base_uri": "https://localhost:8080/"
        },
        "id": "h6cZAS8ZRadQ",
        "outputId": "089684f5-1024-48ca-d2fa-4740f28d4876"
      },
      "source": [
        "#create a 3D array\n",
        "#its an array of 2D arrays\n",
        "A=np.array([[[1,2,3],[4,5,6],[7,8,9]],[[11,12,13],[14,15,16],[17,18,19]],[[21,22,23],[24,25,26],[27,28,29]]])\n",
        "print(A)"
      ],
      "execution_count": 63,
      "outputs": [
        {
          "output_type": "stream",
          "name": "stdout",
          "text": [
            "[[[ 1  2  3]\n",
            "  [ 4  5  6]\n",
            "  [ 7  8  9]]\n",
            "\n",
            " [[11 12 13]\n",
            "  [14 15 16]\n",
            "  [17 18 19]]\n",
            "\n",
            " [[21 22 23]\n",
            "  [24 25 26]\n",
            "  [27 28 29]]]\n"
          ]
        }
      ]
    },
    {
      "cell_type": "code",
      "metadata": {
        "id": "4LfExuOWTajF"
      },
      "source": [
        "print(A[1][1][1])\n",
        "#sliciing\n",
        "#array_name[start_2D_index:end_2d_array_index,start_row_index:end_row_index,start_col_index:end_col_index]\n",
        "print(A[1:2,1:3,0:2])\n",
        "print(A.shape)\n",
        "print(A.size)\n"
      ],
      "execution_count": null,
      "outputs": []
    },
    {
      "cell_type": "code",
      "metadata": {
        "id": "Lur_ewgRWrT8"
      },
      "source": [
        "A=np.array([[[1,2,3],[4,5,6],[7,8,9]],[[11,12,13],[14,15,16],[17,18,19]],[[21,22,23],[24,25,26],[27,28,29]]])\n",
        "A.shape=(9,3)\n",
        "print(A)"
      ],
      "execution_count": null,
      "outputs": []
    },
    {
      "cell_type": "code",
      "metadata": {
        "id": "_P5-fHQjVq0c"
      },
      "source": [
        "#flatten() converts any nD array to 1D array\n",
        "A=np.arange(54).reshape(2,3,9)\n",
        "print(A)\n",
        "print(A.flatten())"
      ],
      "execution_count": null,
      "outputs": []
    }
  ]
}