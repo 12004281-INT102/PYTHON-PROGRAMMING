{
  "nbformat": 4,
  "nbformat_minor": 0,
  "metadata": {
    "colab": {
      "name": "questions.ipynb",
      "provenance": [],
      "authorship_tag": "ABX9TyNPbWVglMaIdSaljOAo12Nz",
      "include_colab_link": true
    },
    "kernelspec": {
      "name": "python3",
      "display_name": "Python 3"
    },
    "language_info": {
      "name": "python"
    }
  },
  "cells": [
    {
      "cell_type": "markdown",
      "metadata": {
        "id": "view-in-github",
        "colab_type": "text"
      },
      "source": [
        "<a href=\"https://colab.research.google.com/github/12004281-INT102/PYTHON-PROGRAMMING/blob/main/questions.ipynb\" target=\"_parent\"><img src=\"https://colab.research.google.com/assets/colab-badge.svg\" alt=\"Open In Colab\"/></a>"
      ]
    },
    {
      "cell_type": "code",
      "metadata": {
        "id": "2SR7WjmT88Di"
      },
      "source": [
        "#to find factorial\n",
        "n=int(input('Enter the value of n='))\n",
        "for x in range(1,n+1):\n",
        "  fact=1\n",
        "for y in range(1,x+1):\n",
        "  fact=fact * y\n",
        "print('Factorial of ',x,'is=',fact)"
      ],
      "execution_count": null,
      "outputs": []
    },
    {
      "cell_type": "code",
      "metadata": {
        "id": "3fvysr-O9QyP"
      },
      "source": [
        "def factorial(n):\n",
        "  fact=1\n",
        "  for x in range(1,n+1):\n",
        "    fact=fact *x\n",
        "    return fact\n",
        "N=int(input('Enter value of N='))\n",
        "for m in range(1,N+1):\n",
        "  F=factorial(N)\n",
        "print('Factorail of ',m ,'is=',F)"
      ],
      "execution_count": null,
      "outputs": []
    }
  ]
}