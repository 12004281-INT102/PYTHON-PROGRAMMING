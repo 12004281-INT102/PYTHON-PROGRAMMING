{
  "nbformat": 4,
  "nbformat_minor": 0,
  "metadata": {
    "colab": {
      "name": "function.ipynb",
      "provenance": [],
      "authorship_tag": "ABX9TyPNqOb6mvjGbp0xMbjHJ4Vu",
      "include_colab_link": true
    },
    "kernelspec": {
      "name": "python3",
      "display_name": "Python 3"
    },
    "language_info": {
      "name": "python"
    }
  },
  "cells": [
    {
      "cell_type": "markdown",
      "metadata": {
        "id": "view-in-github",
        "colab_type": "text"
      },
      "source": [
        "<a href=\"https://colab.research.google.com/github/12004281-INT102/PYTHON-PROGRAMMING/blob/main/function.ipynb\" target=\"_parent\"><img src=\"https://colab.research.google.com/assets/colab-badge.svg\" alt=\"Open In Colab\"/></a>"
      ]
    },
    {
      "cell_type": "markdown",
      "metadata": {
        "id": "n5pGCeZhhRzs"
      },
      "source": [
        "Function is group of related statements that perform specific task.\n",
        "Function breaks program into smaller modulus "
      ]
    },
    {
      "cell_type": "markdown",
      "metadata": {
        "id": "-JqeWjnbhhlC"
      },
      "source": [
        "Self contained block of one or more statements that perdorm a special task when called.Arguments are values given to parameters when called"
      ]
    },
    {
      "cell_type": "markdown",
      "metadata": {
        "id": "ZGLtrfmGzjSV"
      },
      "source": [
        "2 types of function: 1.user built function-2.in built function"
      ]
    },
    {
      "cell_type": "markdown",
      "metadata": {
        "id": "xcOsijHxiWc_"
      },
      "source": [
        "def name_of_funcction(parameter):\n",
        "   statements"
      ]
    },
    {
      "cell_type": "code",
      "metadata": {
        "id": "4jqeUHreiv6j"
      },
      "source": [
        "def demo():   #def stands for define, demo is function\n",
        "  print('welcome')\n",
        "demo() #call of function"
      ],
      "execution_count": null,
      "outputs": []
    },
    {
      "cell_type": "code",
      "metadata": {
        "id": "ArdVJEEyjw4L"
      },
      "source": [
        "def python():\n",
        "  print(\"int102\")\n",
        "for x in range(5):\n",
        "  python()  "
      ],
      "execution_count": null,
      "outputs": []
    },
    {
      "cell_type": "code",
      "metadata": {
        "id": "aeSI-cgfkElH"
      },
      "source": [
        "def add(a,b):\n",
        "  c=a+b\n",
        "  print(c)\n",
        "add(2,3)\n",
        "add(33,56)  "
      ],
      "execution_count": null,
      "outputs": []
    },
    {
      "cell_type": "code",
      "metadata": {
        "id": "Ar-dvIidm5tW"
      },
      "source": [
        "def big(a,b,c):\n",
        "  if(a>b and a>c):\n",
        "    return a\n",
        "  elif (b>c):\n",
        "      return b\n",
        "  else:\n",
        "      return c\n",
        "result=big(2,4,1)\n",
        "print(result)"
      ],
      "execution_count": null,
      "outputs": []
    },
    {
      "cell_type": "markdown",
      "metadata": {
        "id": "jzUu1tXi_A9N"
      },
      "source": [
        "If no value is assigned to parameter it will take the default value"
      ]
    },
    {
      "cell_type": "code",
      "metadata": {
        "id": "-b0vd66C_H2B"
      },
      "source": [
        "def big(a=1,b=2,c=4):\n",
        "  if(a>b and a>c):\n",
        "    return a\n",
        "  elif (b>c):\n",
        "      return b\n",
        "  else:\n",
        "      return c\n",
        "result=big(5) #here only parameter of a is assigned so for b and c the default value will be considered\n",
        "print(result)"
      ],
      "execution_count": null,
      "outputs": []
    },
    {
      "cell_type": "markdown",
      "metadata": {
        "id": "JQlwXlc8sjJA"
      },
      "source": [
        "**Recursive function:When same name function calls itself again and again in program**-recursion terminates when control reaches to base condition-recursion always inplemeted with return statement by employing if-else"
      ]
    },
    {
      "cell_type": "markdown",
      "metadata": {
        "id": "uHDcAQ9Wx7_c"
      },
      "source": [
        "If no base condition then recursion goes ti infinte."
      ]
    },
    {
      "cell_type": "code",
      "metadata": {
        "id": "lhGmtFSAqpoM"
      },
      "source": [
        "def factorial(n):\n",
        "  fact=1\n",
        "  for x in range(1,n+1):\n",
        "    fact= fact * x\n",
        "    return fact\n",
        "a=int(input('Enter value of a factorial='))\n",
        "F=factorial(a)\n",
        "print('Factorial of',a,'is=',F)    "
      ],
      "execution_count": null,
      "outputs": []
    },
    {
      "cell_type": "code",
      "metadata": {
        "id": "-OozvIQEtfq7"
      },
      "source": [
        "def factorial(n):\n",
        "  if(n==0 or n==1):\n",
        "    return 1\n",
        "  else:\n",
        "    return n*factorial(n-1)\n",
        "a=int(input('Enter value of a factorial='))\n",
        "F=factorial(a)\n",
        "print('Factorial of',a,'is=',F)   \n"
      ],
      "execution_count": null,
      "outputs": []
    },
    {
      "cell_type": "markdown",
      "metadata": {
        "id": "jmTtHhYwvIDW"
      },
      "source": [
        "*Find sum of series using recursion"
      ]
    },
    {
      "cell_type": "code",
      "metadata": {
        "id": "v9K57cZ7vN1q"
      },
      "source": [
        "def Sum(n):\n",
        "  if (n==0):  #base value is 0 \n",
        "    return 0\n",
        "  else:\n",
        "    return n+Sum(n-1) #here recursion occurs\n",
        "S=int(input('Enter value of S='))\n",
        "total=Sum(S)\n",
        "print('required sum is',total)\n"
      ],
      "execution_count": null,
      "outputs": []
    },
    {
      "cell_type": "code",
      "metadata": {
        "id": "w152IAHIxY_B"
      },
      "source": [
        "#If n is odd then sum of odd numbers and if n is even then sum of even number\n",
        "def Sum(n):\n",
        "  if (n==0):  #base value is 0 \n",
        "    return 0\n",
        "  else:\n",
        "    return n+Sum(n-2) #here recursion occurs\n",
        "S=int(input('Enter value of S='))\n",
        "total=Sum(S)\n",
        "print('required sum is',total)"
      ],
      "execution_count": null,
      "outputs": []
    },
    {
      "cell_type": "markdown",
      "metadata": {
        "id": "zTZrYZs9yk-b"
      },
      "source": [
        "**Inbuilt functions**-2 types-1.function in python-2.external library"
      ]
    },
    {
      "cell_type": "markdown",
      "metadata": {
        "id": "qTLlZ7zIzyTX"
      },
      "source": [
        "In python: print(), eval(), input(), len()-return number of elements of container, sum()-return the sum of all elements ,max()-returns maximum value in container, min()-retun minimum value of container, pow(a,b)-returns a^b"
      ]
    },
    {
      "cell_type": "code",
      "metadata": {
        "id": "YXhAK0gm0DzN"
      },
      "source": [
        "L=[1,2,3,4,6,5,7,8] #list are mutable but tuples are immutable\n",
        "len(L)\n",
        "S=\"Kesiya S Joseph\"\n",
        "len(S)\n",
        "max(L)"
      ],
      "execution_count": null,
      "outputs": []
    },
    {
      "cell_type": "markdown",
      "metadata": {
        "id": "pUCvAAe11qNI"
      },
      "source": [
        "external library-- import math as M --- can be used with dot operator-- M.function"
      ]
    },
    {
      "cell_type": "code",
      "metadata": {
        "id": "viTQFZJi2FLG"
      },
      "source": [
        "import math as M\n",
        "M.sqrt(1000)\n",
        "M.sin(0)\n",
        "M.floor(5.6)\n",
        "M.ceil(5.3)"
      ],
      "execution_count": null,
      "outputs": []
    }
  ]
}