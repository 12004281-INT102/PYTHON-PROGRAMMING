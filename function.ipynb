{
  "nbformat": 4,
  "nbformat_minor": 0,
  "metadata": {
    "colab": {
      "name": "function.ipynb",
      "provenance": [],
      "authorship_tag": "ABX9TyPhsaJVv05PvhogJocBre8f",
      "include_colab_link": true
    },
    "kernelspec": {
      "name": "python3",
      "display_name": "Python 3"
    },
    "language_info": {
      "name": "python"
    }
  },
  "cells": [
    {
      "cell_type": "markdown",
      "metadata": {
        "id": "view-in-github",
        "colab_type": "text"
      },
      "source": [
        "<a href=\"https://colab.research.google.com/github/12004281-INT102/PYTHON-PROGRAMMING/blob/main/function.ipynb\" target=\"_parent\"><img src=\"https://colab.research.google.com/assets/colab-badge.svg\" alt=\"Open In Colab\"/></a>"
      ]
    },
    {
      "cell_type": "markdown",
      "metadata": {
        "id": "n5pGCeZhhRzs"
      },
      "source": [
        "Function is group of related statements that perform specific task.\n",
        "Function breaks program into smaller modulus "
      ]
    },
    {
      "cell_type": "markdown",
      "metadata": {
        "id": "-JqeWjnbhhlC"
      },
      "source": [
        "Self contained block of one or more statements that perdorm a special task when called.Arguments are values given to parameters when called"
      ]
    },
    {
      "cell_type": "markdown",
      "metadata": {
        "id": "xcOsijHxiWc_"
      },
      "source": [
        "def name_of_funcction(parameter):\n",
        "   statements"
      ]
    },
    {
      "cell_type": "code",
      "metadata": {
        "id": "4jqeUHreiv6j"
      },
      "source": [
        "def demo():   #def stands for define, demo is function\n",
        "  print('welcome')\n",
        "demo() #call of function"
      ],
      "execution_count": null,
      "outputs": []
    },
    {
      "cell_type": "code",
      "metadata": {
        "id": "ArdVJEEyjw4L"
      },
      "source": [
        "def python():\n",
        "  print(\"int102\")\n",
        "for x in range(5):\n",
        "  python()  "
      ],
      "execution_count": null,
      "outputs": []
    },
    {
      "cell_type": "code",
      "metadata": {
        "id": "aeSI-cgfkElH"
      },
      "source": [
        "def add(a,b):\n",
        "  c=a+b\n",
        "  print(c)\n",
        "add(2,3)\n",
        "add(33,56)  "
      ],
      "execution_count": null,
      "outputs": []
    },
    {
      "cell_type": "code",
      "metadata": {
        "id": "Ar-dvIidm5tW"
      },
      "source": [
        "def big(a,b,c):\n",
        "  if(a>b and a>c):\n",
        "    return a\n",
        "  elif (b>c):\n",
        "      return b\n",
        "  else:\n",
        "      return c\n",
        "result=big(2,4,1)\n",
        "print(result)"
      ],
      "execution_count": null,
      "outputs": []
    },
    {
      "cell_type": "markdown",
      "metadata": {
        "id": "jzUu1tXi_A9N"
      },
      "source": [
        "If no value is assigned to parameter it will take the default value"
      ]
    },
    {
      "cell_type": "code",
      "metadata": {
        "id": "-b0vd66C_H2B"
      },
      "source": [
        "def big(a=1,b=2,c=4):\n",
        "  if(a>b and a>c):\n",
        "    return a\n",
        "  elif (b>c):\n",
        "      return b\n",
        "  else:\n",
        "      return c\n",
        "result=big(5) #here only parameter of a is assigned so for b and c the default value will be considered\n",
        "print(result)"
      ],
      "execution_count": null,
      "outputs": []
    }
  ]
}