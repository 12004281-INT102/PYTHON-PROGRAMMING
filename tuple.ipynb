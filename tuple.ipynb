{
  "nbformat": 4,
  "nbformat_minor": 0,
  "metadata": {
    "colab": {
      "name": "tuple.ipynb",
      "provenance": [],
      "authorship_tag": "ABX9TyM9wAfe0oqZ7v+UljVqC7l9",
      "include_colab_link": true
    },
    "kernelspec": {
      "name": "python3",
      "display_name": "Python 3"
    },
    "language_info": {
      "name": "python"
    }
  },
  "cells": [
    {
      "cell_type": "markdown",
      "metadata": {
        "id": "view-in-github",
        "colab_type": "text"
      },
      "source": [
        "<a href=\"https://colab.research.google.com/github/12004281-INT102/PYTHON-PROGRAMMING/blob/main/tuple.ipynb\" target=\"_parent\"><img src=\"https://colab.research.google.com/assets/colab-badge.svg\" alt=\"Open In Colab\"/></a>"
      ]
    },
    {
      "cell_type": "code",
      "metadata": {
        "id": "SMuJzoua3oAA"
      },
      "source": [
        "#create an empty tuple\n",
        "A=()\n",
        "type(A)\n",
        "#create tuple of integers\n",
        "T=(1,2,3,4,5,6)\n",
        "T1=tuple([1,2,3,4,5,6])\n",
        "print(T)\n",
        "print(T1)\n",
        "#T[0]=11 #tuple are immutable\n",
        "#print(T)"
      ],
      "execution_count": null,
      "outputs": []
    },
    {
      "cell_type": "code",
      "metadata": {
        "id": "AwP5maeI4fcQ"
      },
      "source": [
        "L=['apple','banana','grape']\n",
        "T=tuple(L)\n",
        "print(T)"
      ],
      "execution_count": null,
      "outputs": []
    },
    {
      "cell_type": "code",
      "metadata": {
        "id": "KQ4MlVpf5XPO"
      },
      "source": [
        "#tuple concetination(merging or joining)\n",
        "t1=(1,2,3)\n",
        "t2=(5,6,7)\n",
        "t3=t1+t2\n",
        "print(t3)\n"
      ],
      "execution_count": null,
      "outputs": []
    },
    {
      "cell_type": "code",
      "metadata": {
        "id": "5Imsv-Sr6GSD"
      },
      "source": [
        "x=zip(t1,t2)\n",
        "x=tuple(x)\n",
        "print(x)"
      ],
      "execution_count": null,
      "outputs": []
    },
    {
      "cell_type": "code",
      "metadata": {
        "id": "09Gf1JNy6gGI"
      },
      "source": [
        "#acessing elements of tuple using index with index with index operator[]\n",
        "t=('apple','grape','pineapple')\n",
        "print(t[2])"
      ],
      "execution_count": null,
      "outputs": []
    },
    {
      "cell_type": "code",
      "metadata": {
        "id": "AItSrPOw8LR5"
      },
      "source": [
        "#tuple silicing\n",
        "t=('apple','grape','pineapple','kiwi','one','two')\n",
        "fruit=t[0:3]\n",
        "print(fruit)"
      ],
      "execution_count": null,
      "outputs": []
    },
    {
      "cell_type": "code",
      "metadata": {
        "id": "g4Wi-gGM_QMg"
      },
      "source": [
        "#built in function of tuple\n",
        "#len(),sum(),index(),count()\n",
        "#min(),max()"
      ],
      "execution_count": null,
      "outputs": []
    },
    {
      "cell_type": "code",
      "metadata": {
        "id": "MMn93PN4ADOj"
      },
      "source": [
        "#reverse the tuple\n",
        "t=(1,2,3,4,5)\n",
        "L=list(t)\n",
        "print(L)\n",
        "L.reverse()\n",
        "print(L)\n",
        "T=tuple(L)\n",
        "print(T)"
      ],
      "execution_count": null,
      "outputs": []
    },
    {
      "cell_type": "code",
      "metadata": {
        "id": "BXP8sx3aAnh0"
      },
      "source": [
        "#insert element in tuple\n",
        "T=()\n",
        "L=list()\n",
        "for x in range(5):\n",
        "  country=input('Enter country name')\n",
        "  L.append(country)\n",
        "T=tuple(L)\n",
        "print(T)"
      ],
      "execution_count": null,
      "outputs": []
    }
  ]
}