{
  "nbformat": 4,
  "nbformat_minor": 0,
  "metadata": {
    "colab": {
      "name": "dictionaries.ipynb",
      "provenance": [],
      "collapsed_sections": [],
      "authorship_tag": "ABX9TyPeCS0pGZxe8AfpKSn/RrGK",
      "include_colab_link": true
    },
    "kernelspec": {
      "name": "python3",
      "display_name": "Python 3"
    },
    "language_info": {
      "name": "python"
    }
  },
  "cells": [
    {
      "cell_type": "markdown",
      "metadata": {
        "id": "view-in-github",
        "colab_type": "text"
      },
      "source": [
        "<a href=\"https://colab.research.google.com/github/12004281-INT102/PYTHON-PROGRAMMING/blob/main/dictionaries.ipynb\" target=\"_parent\"><img src=\"https://colab.research.google.com/assets/colab-badge.svg\" alt=\"Open In Colab\"/></a>"
      ]
    },
    {
      "cell_type": "markdown",
      "metadata": {
        "id": "88qHrnMS9L20"
      },
      "source": [
        "Element are represent by key value pair,\n",
        "to get element we need to specify key it works like index,\n",
        "key value pair is seperated by comma\n",
        "all entities are in curly brackets"
      ]
    },
    {
      "cell_type": "code",
      "metadata": {
        "id": "rKziDO3s-UtJ"
      },
      "source": [
        "D={}\n",
        "type(D)"
      ],
      "execution_count": null,
      "outputs": []
    },
    {
      "cell_type": "code",
      "metadata": {
        "id": "Rxc3KWT0-hcj"
      },
      "source": [
        "D={}\n",
        "student={'name':'Kesiya','reg':12004281,'branch':'aerospace','section':'M2041','roll.no':'RM2041A04','grp':'G1'}\n",
        "#access the elements\n",
        "#use key to access the element\n",
        "#dic[key]-syntax\n",
        "print(student['name'])\n",
        "print(student['reg'])\n",
        "student['cgpa']=7.9\n",
        "student['section']='M2042'\n",
        "print(student)\n",
        "#to delete by using del operator\n",
        "del(student['cgpa'])\n",
        "print(student)\n",
        "#to print all the keys\n",
        "#dic.keys()\n",
        "#dic.value()\n",
        "#dic.items()\n",
        "#clear()-remove all the entries from dict\n",
        "print(student.keys())\n",
        "print(student.values())\n",
        "print(student.items())\n",
        "print(student.clear())\n",
        "print(student)\n",
        "#get()-used to get value of given key,returns the value of given key\n"
      ],
      "execution_count": null,
      "outputs": []
    },
    {
      "cell_type": "code",
      "metadata": {
        "id": "VEwhqbqiD8Tz"
      },
      "source": [
        "student={'name':'Kesiya','reg':12004281,'branch':'aerospace','section':'M2041','roll.no':'RM2041A04','grp':'G1'}\n",
        "NAME=student.get('name')\n",
        "print('Name of the person is',NAME)\n",
        "#pop() Removes the element with the specified key\n",
        "student.pop('name')\n",
        "print(student)\n",
        "#copy() Returns a copy of the dictionary\n",
        "X={'A':1,'B':2,'C':3,'D':4,'E':5}\n",
        "y=X.copy()\n",
        "print(y)\n",
        "#fromkeys() Returns a list containing the dictionary's keys\n",
        "keys=['name','age','dept','role']\n",
        "values=['kesiya',19,'aerospace','student']\n",
        "A={}\n",
        "A.fromkeys(keys,values)\n",
        "#to create dictionaries\n",
        "for x in range(len(keys)):\n",
        "  A.update({keys[x]:values[x]})\n",
        "print(A)\n",
        "#setdefault() Returns the value of the specified key. If the key does not exist: insert the key, with the specified value\n",
        "A.setdefault('cgpa',7.9)\n",
        "print(A)"
      ],
      "execution_count": null,
      "outputs": []
    },
    {
      "cell_type": "code",
      "metadata": {
        "id": "o4aX4RDKnz4i"
      },
      "source": [
        "#update() Updates the dictionary with the specified key-value pairs\n",
        "D={}\n",
        "D.update({'name':'Kesiya'})\n",
        "print(D)\n",
        "#popitem() Removes the last inserted key-value pair\n",
        "D.popitem()"
      ],
      "execution_count": null,
      "outputs": []
    },
    {
      "cell_type": "code",
      "metadata": {
        "id": "BuhuJd-ZEdtM"
      },
      "source": [
        "#to compare dictionaries\n",
        "# use == compare operator\n",
        "d1={'kesiya':1, 'joseph':2}\n",
        "d2={'kesiya':1, 'joseph':2}\n",
        "d1==d2\n"
      ],
      "execution_count": null,
      "outputs": []
    },
    {
      "cell_type": "code",
      "metadata": {
        "id": "srgXPhw6G826"
      },
      "source": [
        "d3 = {\"john\":40, \"peter\":45}\n",
        "d4 = {\"john\":466, \"peter\":45}\n",
        "d3 == d4"
      ],
      "execution_count": null,
      "outputs": []
    },
    {
      "cell_type": "code",
      "metadata": {
        "id": "ZO-HHH_aHPIY"
      },
      "source": [
        "d = {\"john\":40, \"peter\":45}\n",
        "print(list(d.keys()))"
      ],
      "execution_count": null,
      "outputs": []
    },
    {
      "cell_type": "markdown",
      "metadata": {
        "id": "1cOrAArxuvD_"
      },
      "source": [
        "**Traversing a dictionary**"
      ]
    },
    {
      "cell_type": "markdown",
      "metadata": {
        "id": "7z1vvjhfuz3U"
      },
      "source": [
        "For loop is used to traversing"
      ]
    },
    {
      "cell_type": "code",
      "metadata": {
        "id": "bEz8fEtcvH2m"
      },
      "source": [
        "X={'A':1,'B':2,'C':3,'D':4,'E':5}\n",
        "for x in X:\n",
        "  print(X[x])"
      ],
      "execution_count": null,
      "outputs": []
    },
    {
      "cell_type": "code",
      "metadata": {
        "id": "bBPX75n5vpGK"
      },
      "source": [
        "X={'A':1,'B':2,'C':3,'D':4,'E':5}\n",
        "for x in X:\n",
        "  print(x)"
      ],
      "execution_count": null,
      "outputs": []
    },
    {
      "cell_type": "code",
      "metadata": {
        "id": "kEZNmUzHvzBJ"
      },
      "source": [
        "#traversing all item from dictionary\n",
        "X={'A':1,'B':2,'C':3,'D':4,'E':5,'F':6,'G':7}\n",
        "for x,y in X.items():\n",
        "  print(x,y)\n",
        "T=tuple( X.items())\n",
        "print(T)"
      ],
      "execution_count": null,
      "outputs": []
    },
    {
      "cell_type": "code",
      "metadata": {
        "id": "YjwcjUKxw88D"
      },
      "source": [
        "student={'name':'Kesiya','reg':12004281,'branch':'aerospace','section':'M2041','roll.no':'RM2041A04','grp':'G1','block':'G12'}\n",
        "keys=[]\n",
        "values=[]\n",
        "for x,y in student.items():\n",
        "  keys.append(x)\n",
        "  values.append(y)\n",
        "print(keys)\n",
        "print(values)\n",
        "  "
      ],
      "execution_count": null,
      "outputs": []
    },
    {
      "cell_type": "code",
      "metadata": {
        "id": "t6RtAn6Ny65n"
      },
      "source": [
        "#other way to make list\n",
        "D={'A':1,'B':2,'C':3,'D':4,'E':5,'F':6,'G':7}\n",
        "keys=list(D.keys())\n",
        "values=list(D.values())\n",
        "print(keys)\n",
        "print(values)"
      ],
      "execution_count": null,
      "outputs": []
    },
    {
      "cell_type": "markdown",
      "metadata": {
        "id": "qYo54vEIzpbz"
      },
      "source": [
        "**Nested dictionary**"
      ]
    },
    {
      "cell_type": "markdown",
      "metadata": {
        "id": "lu3361U9zujV"
      },
      "source": [
        "Dictionaries within a dictionaries"
      ]
    },
    {
      "cell_type": "code",
      "metadata": {
        "id": "iap0COPc0rpF"
      },
      "source": [
        "D={12004281:{'name':'Kesiya','section':'M2041'},1200943:{'name':'joseph','section':'M2042'}}\n",
        "print(D[12004281]['section'])"
      ],
      "execution_count": null,
      "outputs": []
    },
    {
      "cell_type": "code",
      "metadata": {
        "id": "9qabl6oT2VQV"
      },
      "source": [
        "#create a new dict by creating a user input\n",
        "student={}\n",
        "n=int(input('required key values='))\n",
        "for x in range(n):\n",
        "  key=str(input('Enter key='))\n",
        "  value=str(input('ENter value='))\n",
        "  que=input('Whether input float thrn write F or integer for I or input S=')\n",
        "  if (que=='F'):\n",
        "    value=float(value)\n",
        "  elif (que=='I'):\n",
        "    value=int(value)\n",
        "  else:\n",
        "    value=str(value)\n",
        "student.update({key:value})\n",
        "print(student)\n"
      ],
      "execution_count": null,
      "outputs": []
    }
  ]
}