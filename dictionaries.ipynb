{
  "nbformat": 4,
  "nbformat_minor": 0,
  "metadata": {
    "colab": {
      "name": "dictionaries.ipynb",
      "provenance": [],
      "collapsed_sections": [],
      "authorship_tag": "ABX9TyPzhQSGbvhF6KyuZYyuq075",
      "include_colab_link": true
    },
    "kernelspec": {
      "name": "python3",
      "display_name": "Python 3"
    },
    "language_info": {
      "name": "python"
    }
  },
  "cells": [
    {
      "cell_type": "markdown",
      "metadata": {
        "id": "view-in-github",
        "colab_type": "text"
      },
      "source": [
        "<a href=\"https://colab.research.google.com/github/12004281-INT102/PYTHON-PROGRAMMING/blob/main/dictionaries.ipynb\" target=\"_parent\"><img src=\"https://colab.research.google.com/assets/colab-badge.svg\" alt=\"Open In Colab\"/></a>"
      ]
    },
    {
      "cell_type": "markdown",
      "metadata": {
        "id": "88qHrnMS9L20"
      },
      "source": [
        "Element are represent by key value pair,\n",
        "to get element we need to specify key it works like index,\n",
        "key value pair is seperated by comma\n",
        "all entities are in curly brackets"
      ]
    },
    {
      "cell_type": "code",
      "metadata": {
        "id": "rKziDO3s-UtJ"
      },
      "source": [
        "D={}\n",
        "type(D)"
      ],
      "execution_count": null,
      "outputs": []
    },
    {
      "cell_type": "code",
      "metadata": {
        "id": "Rxc3KWT0-hcj"
      },
      "source": [
        "D={}\n",
        "student={'name':'Kesiya','reg':12004281,'branch':'aerospace','section':'M2041','roll.no':'RM2041A04','grp':'G1'}\n",
        "#access the elements\n",
        "#use key to access the element\n",
        "#dic[key]-syntax\n",
        "print(student['name'])\n",
        "print(student['reg'])\n",
        "student['cgpa']=7.9\n",
        "student['section']='M2042'\n",
        "print(student)\n",
        "#to delete by using del operator\n",
        "del(student['cgpa'])\n",
        "print(student)\n",
        "#to print all the keys\n",
        "#dic.keys()\n",
        "#dic.value()\n",
        "#dic.items()\n",
        "#clear()-remove all the entries from dict\n",
        "print(student.keys())\n",
        "print(student.values())\n",
        "print(student.items())\n",
        "print(student.clear())\n",
        "print(student)\n",
        "#get()-used to get value of given key,returns the value of given key\n"
      ],
      "execution_count": null,
      "outputs": []
    },
    {
      "cell_type": "code",
      "metadata": {
        "id": "VEwhqbqiD8Tz"
      },
      "source": [
        "student={'name':'Kesiya','reg':12004281,'branch':'aerospace','section':'M2041','roll.no':'RM2041A04','grp':'G1'}\n",
        "NAME=student.get('name')\n",
        "print('Name of the person is',NAME)"
      ],
      "execution_count": null,
      "outputs": []
    },
    {
      "cell_type": "code",
      "metadata": {
        "id": "BuhuJd-ZEdtM"
      },
      "source": [
        "#to compare dictionaries\n",
        "# use == compare operator\n",
        "d1={'kesiya':1, 'joseph':2}\n",
        "d2={'kesiya':1, 'joseph':2}\n",
        "d1==d2\n"
      ],
      "execution_count": null,
      "outputs": []
    },
    {
      "cell_type": "code",
      "metadata": {
        "id": "srgXPhw6G826"
      },
      "source": [
        "d3 = {\"john\":40, \"peter\":45}\n",
        "d4 = {\"john\":466, \"peter\":45}\n",
        "d3 == d4"
      ],
      "execution_count": null,
      "outputs": []
    },
    {
      "cell_type": "code",
      "metadata": {
        "id": "ZO-HHH_aHPIY"
      },
      "source": [
        "d = {\"john\":40, \"peter\":45}\n",
        "print(list(d.keys()))"
      ],
      "execution_count": null,
      "outputs": []
    }
  ]
}