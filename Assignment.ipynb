{
  "nbformat": 4,
  "nbformat_minor": 0,
  "metadata": {
    "colab": {
      "name": "Assignment.ipynb",
      "provenance": [],
      "collapsed_sections": [],
      "authorship_tag": "ABX9TyMlDJoqVtMo87t0t3Q9103x",
      "include_colab_link": true
    },
    "kernelspec": {
      "name": "python3",
      "display_name": "Python 3"
    },
    "language_info": {
      "name": "python"
    }
  },
  "cells": [
    {
      "cell_type": "markdown",
      "metadata": {
        "id": "view-in-github",
        "colab_type": "text"
      },
      "source": [
        "<a href=\"https://colab.research.google.com/github/12004281-INT102/PYTHON-PROGRAMMING/blob/main/Assignment.ipynb\" target=\"_parent\"><img src=\"https://colab.research.google.com/assets/colab-badge.svg\" alt=\"Open In Colab\"/></a>"
      ]
    },
    {
      "cell_type": "markdown",
      "metadata": {
        "id": "EHzB0MfKe9Wt"
      },
      "source": [
        "**1. To check for drivers insurance**"
      ]
    },
    {
      "cell_type": "code",
      "metadata": {
        "id": "KdYOwCiufE7r"
      },
      "source": [
        "a = str(input(\"Enter your marital status (Married/Unmarried): \"))\n",
        "b = str(input(\"Enter your sex (Male/Female): \"))\n",
        "c = int(input(\"Enter your age: \"))\n",
        "if(a == 'Married'):\n",
        "  print(\"Driver is insured\")\n",
        "elif(a == 'Unmarried' and b == 'Male' and c > 30):\n",
        "  print(\"Driver is insured\")\n",
        "elif(a == 'Unmarried' and b == 'Female' and c > 25):\n",
        "  print(\"Driver is insured\")\n",
        "else:\n",
        "  print(\"Driver is not insured\")"
      ],
      "execution_count": null,
      "outputs": []
    },
    {
      "cell_type": "code",
      "metadata": {
        "id": "yvHpDSGigQ4A"
      },
      "source": [
        "i=int(input(\"enter the semester:\"))\n",
        "if (i%2== 0 and i>9 and i>0):\n",
        "  print(\" long vacation\")\n",
        "elif (i%2!=0 and i>9 and i>0):\n",
        "  print(\" short vacation\")\n",
        "else:\n",
        "  print('Enter semester number between 1 and 8')"
      ],
      "execution_count": null,
      "outputs": []
    },
    {
      "cell_type": "code",
      "metadata": {
        "id": "HPBAHETHkF3_"
      },
      "source": [
        "x = int(input(\"x= \"))\n",
        "y = int(input(\"y= \"))\n",
        "z = int(input(\"z= \"))\n",
        "\n",
        "if (x == y == z):\n",
        "\tprint(\"Equilateral triangle\")\n",
        "elif (x==y or y==z or z==x):\n",
        "\tprint(\"isosceles triangle\")\n",
        "else:\n",
        "\tprint(\"Scalene triangle\")"
      ],
      "execution_count": null,
      "outputs": []
    }
  ]
}