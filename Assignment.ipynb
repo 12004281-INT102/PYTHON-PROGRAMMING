{
  "nbformat": 4,
  "nbformat_minor": 0,
  "metadata": {
    "colab": {
      "name": "Assignment.ipynb",
      "provenance": [],
      "collapsed_sections": [],
      "authorship_tag": "ABX9TyOsGA7NFc/YSQ0UliHTtgrV",
      "include_colab_link": true
    },
    "kernelspec": {
      "name": "python3",
      "display_name": "Python 3"
    },
    "language_info": {
      "name": "python"
    }
  },
  "cells": [
    {
      "cell_type": "markdown",
      "metadata": {
        "id": "view-in-github",
        "colab_type": "text"
      },
      "source": [
        "<a href=\"https://colab.research.google.com/github/12004281-INT102/PYTHON-PROGRAMMING/blob/main/Assignment.ipynb\" target=\"_parent\"><img src=\"https://colab.research.google.com/assets/colab-badge.svg\" alt=\"Open In Colab\"/></a>"
      ]
    },
    {
      "cell_type": "markdown",
      "metadata": {
        "id": "EHzB0MfKe9Wt"
      },
      "source": [
        "**1. To check for drivers insurance**"
      ]
    },
    {
      "cell_type": "code",
      "metadata": {
        "id": "KdYOwCiufE7r"
      },
      "source": [
        "a=str(input(\"Enter your marital status (Married/Unmarried)= \"))\n",
        "b=str(input(\"Enter your sex (Male/Female)= \"))\n",
        "c=int(input(\"Enter your age=\"))\n",
        "if(a == 'Married'):\n",
        "  print(\"Driver is insured\")\n",
        "elif(a == 'Unmarried' and b == 'Male' and c > 30):\n",
        "  print(\"Driver is insured\")\n",
        "elif(a == 'Unmarried' and b == 'Female' and c > 25):\n",
        "  print(\"Driver is insured\")\n",
        "else:\n",
        "  print(\"Driver is not insured\")"
      ],
      "execution_count": null,
      "outputs": []
    },
    {
      "cell_type": "markdown",
      "metadata": {
        "id": "_AgswoTd5RWq"
      },
      "source": [
        "**2.To find sum of odd series**"
      ]
    },
    {
      "cell_type": "code",
      "metadata": {
        "id": "6kQYLrBEaGQC"
      },
      "source": [
        "N=int(input('Enter the value of N='))\n",
        "total=0 \n",
        "for a in range(1,N+1,2):\n",
        "   total =total + a\n",
        "print(\"Sum of odd terms series 1+3+5.....+\",N, \"is=\",total)"
      ],
      "execution_count": null,
      "outputs": []
    },
    {
      "cell_type": "markdown",
      "metadata": {
        "id": "LP0ONxcq5ZUc"
      },
      "source": [
        "**3.To check long or short vacation**"
      ]
    },
    {
      "cell_type": "code",
      "metadata": {
        "id": "yvHpDSGigQ4A",
        "colab": {
          "base_uri": "https://localhost:8080/"
        },
        "outputId": "68f05f76-98d5-4a10-df80-a1ab21c92091"
      },
      "source": [
        "i=int(input(\"Enter the semester you need to know=\"))\n",
        "if (i%2==0 and i<9 and i>0):\n",
        "  print(\" Long vacation\")\n",
        "elif (i%2!=0 and i<9 and i>0):\n",
        "  print(\" Short vacation\")\n",
        "else:\n",
        "  print('Enter semester number between 1 and 8')"
      ],
      "execution_count": 42,
      "outputs": [
        {
          "output_type": "stream",
          "name": "stdout",
          "text": [
            "Enter the semester you need to know=-9\n",
            "Enter semester number between 1 and 8\n"
          ]
        }
      ]
    },
    {
      "cell_type": "markdown",
      "metadata": {
        "id": "orR1HbnI5pJ0"
      },
      "source": [
        "**4.To get average of marks of 10 students** "
      ]
    },
    {
      "cell_type": "code",
      "metadata": {
        "id": "Mtgc9Czr1uRV"
      },
      "source": [
        "marks=list()\n",
        "for x in range(10):\n",
        "  m=eval(input('Enter marks of student='))\n",
        "  marks.append(m)\n",
        "total=0  \n",
        "for a in marks:\n",
        "  total=total+a\n",
        "avg=total/10 \n",
        "print('Average of students',round(avg,2))"
      ],
      "execution_count": null,
      "outputs": []
    },
    {
      "cell_type": "markdown",
      "metadata": {
        "id": "pnXxtP5NCv4B"
      },
      "source": [
        "**5.To swap place of first name and last name**"
      ]
    },
    {
      "cell_type": "code",
      "metadata": {
        "id": "oktJypq43WEi"
      },
      "source": [
        "X=str(input('Enter first name='))\n",
        "Y=str(input('Enter second name='))\n",
        "Z=X+' '+Y\n",
        "print(Z)\n",
        "temp= X \n",
        "X = Y\n",
        "Y = temp\n",
        "Z= X+' '+Y \n",
        "print(Z)"
      ],
      "execution_count": null,
      "outputs": []
    },
    {
      "cell_type": "markdown",
      "metadata": {
        "id": "jq0CT90CC-Nb"
      },
      "source": [
        "6.To determine the triangle "
      ]
    },
    {
      "cell_type": "code",
      "metadata": {
        "id": "HPBAHETHkF3_"
      },
      "source": [
        "x = int(input(\"x= \"))\n",
        "y = int(input(\"y= \"))\n",
        "z = int(input(\"z= \"))\n",
        "\n",
        "if (x == y == z):\n",
        "\tprint(\"Equilateral triangle\")\n",
        "elif (x==y or y==z or z==x):\n",
        "\tprint(\"Isosceles triangle\")\n",
        "else:\n",
        "\tprint(\"Scalene triangle\")"
      ],
      "execution_count": null,
      "outputs": []
    }
  ]
}