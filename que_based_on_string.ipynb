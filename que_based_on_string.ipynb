{
  "nbformat": 4,
  "nbformat_minor": 0,
  "metadata": {
    "colab": {
      "name": " que based on string",
      "provenance": [],
      "authorship_tag": "ABX9TyNYJgmT78SiJBLDRdJwRYzs",
      "include_colab_link": true
    },
    "kernelspec": {
      "name": "python3",
      "display_name": "Python 3"
    },
    "language_info": {
      "name": "python"
    }
  },
  "cells": [
    {
      "cell_type": "markdown",
      "metadata": {
        "id": "view-in-github",
        "colab_type": "text"
      },
      "source": [
        "<a href=\"https://colab.research.google.com/github/12004281-INT102/PYTHON-PROGRAMMING/blob/main/que_based_on_string.ipynb\" target=\"_parent\"><img src=\"https://colab.research.google.com/assets/colab-badge.svg\" alt=\"Open In Colab\"/></a>"
      ]
    },
    {
      "cell_type": "markdown",
      "metadata": {
        "id": "b7m-sK8pVZ6I"
      },
      "source": [
        "**1.Identify total number of vowel in string**"
      ]
    },
    {
      "cell_type": "code",
      "metadata": {
        "id": "6ihBvE1QVpMu"
      },
      "source": [
        "word=str(input('enter the string='))\n",
        "count=0\n",
        "for x in word:\n",
        "     if (x=='a' or x=='e' or x=='i' or x=='o' or x=='u' or x=='A' or x=='E' or x=='I' or x=='U' or x=='O'):\n",
        "        count=count+1\n",
        "print(\"Total count of vowels characters in string is=\",count)"
      ],
      "execution_count": null,
      "outputs": []
    },
    {
      "cell_type": "code",
      "metadata": {
        "id": "PICa2CGlXP_z"
      },
      "source": [
        "word=str(input('Enter the string='))\n",
        "ca=word.count('a')\n",
        "ce=word.count('e')\n",
        "ci=word.count('i')\n",
        "co=word.count('o')\n",
        "cu=word.count('u')\n",
        "print('Total Count of Vowles are=',(ca+ce+ci+co+cu))"
      ],
      "execution_count": null,
      "outputs": []
    },
    {
      "cell_type": "markdown",
      "metadata": {
        "id": "xKo2uFI_d7Dc"
      },
      "source": [
        "**2.Find total number in series**"
      ]
    },
    {
      "cell_type": "code",
      "metadata": {
        "id": "pn1wQsxbZ4Tb"
      },
      "source": [
        "#print(sum of seriesfrom1..N)\n",
        "N=int(input('Enter the value of N='))\n",
        "total=0 \n",
        "for a in range(1,N+1):\n",
        "   total =total + a\n",
        "print(\"Sum of series 1+2+3+4.....+\",N, \"is=\",total)"
      ],
      "execution_count": null,
      "outputs": []
    },
    {
      "cell_type": "code",
      "metadata": {
        "id": "LfmZaUpkbVWr"
      },
      "source": [
        "#print sum of series with while loop\n",
        "N=int(input('Enter the value of N='))\n",
        "a=1\n",
        "total=0\n",
        "while (a<=N):\n",
        "  total=total+a\n",
        "  a=a+1\n",
        "print(\"Sum of series 1+2+3+4.....+\",N, \"is=\",total)"
      ],
      "execution_count": null,
      "outputs": []
    },
    {
      "cell_type": "code",
      "metadata": {
        "id": "3tBu_LuccQW1"
      },
      "source": [
        "#print sum of even terms\n",
        "N=int(input('Enter the value of N='))\n",
        "a=2\n",
        "total=0\n",
        "while (a<=N):\n",
        "  total=total+a\n",
        "  a=a+2\n",
        "print(\"Sum of series 2+4.....+\",N, \"is=\",total)\n"
      ],
      "execution_count": null,
      "outputs": []
    },
    {
      "cell_type": "code",
      "metadata": {
        "id": "VFz3tdtDdOrL"
      },
      "source": [
        "#print sum of odd terms\n",
        "N=int(input('Enter the value of N='))\n",
        "total=0 \n",
        "for a in range(1,N+1,2):\n",
        "   total =total + a\n",
        "print(\"Sum of odd trems series 1+3+5.....+\",N, \"is=\",total)"
      ],
      "execution_count": null,
      "outputs": []
    },
    {
      "cell_type": "markdown",
      "metadata": {
        "id": "k0RIHQ53eHZy"
      },
      "source": [
        "**3.Predict the given number is prime ir not**"
      ]
    },
    {
      "cell_type": "code",
      "metadata": {
        "id": "9oMeKkiNeQZH"
      },
      "source": [
        "N=int(input('Enter the value of N to check prime or not='))\n",
        "count=0\n",
        "for x in range(1,N+1):\n",
        "  if( N % x==0):\n",
        "    count=count+1\n",
        "if(count==2 or count==1):\n",
        "  print(N,'is prime number')\n",
        "else:\n",
        "  print(N,'is not prime number')"
      ],
      "execution_count": null,
      "outputs": []
    },
    {
      "cell_type": "markdown",
      "metadata": {
        "id": "KpSO5p7_gAlu"
      },
      "source": [
        "**4.To reverse the number**"
      ]
    },
    {
      "cell_type": "code",
      "metadata": {
        "id": "I-ReVoCagJIK"
      },
      "source": [
        "reg=int(input('Enter the registration number='))\n",
        "rev=0\n",
        "while(reg>0):\n",
        "   rem=reg % 10\n",
        "   rev=rev * 10 + rem\n",
        "   reg=reg // 10\n",
        "print('The reverse of registration number is=',rev)"
      ],
      "execution_count": null,
      "outputs": []
    }
  ]
}