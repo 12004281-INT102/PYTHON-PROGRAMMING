{
  "nbformat": 4,
  "nbformat_minor": 0,
  "metadata": {
    "colab": {
      "name": "que_list.ipynb",
      "provenance": [],
      "authorship_tag": "ABX9TyM4NttkJiSdhV25BjjadcMa",
      "include_colab_link": true
    },
    "kernelspec": {
      "name": "python3",
      "display_name": "Python 3"
    },
    "language_info": {
      "name": "python"
    }
  },
  "cells": [
    {
      "cell_type": "markdown",
      "metadata": {
        "id": "view-in-github",
        "colab_type": "text"
      },
      "source": [
        "<a href=\"https://colab.research.google.com/github/12004281-INT102/PYTHON-PROGRAMMING/blob/main/que_list.ipynb\" target=\"_parent\"><img src=\"https://colab.research.google.com/assets/colab-badge.svg\" alt=\"Open In Colab\"/></a>"
      ]
    },
    {
      "cell_type": "code",
      "metadata": {
        "id": "u0auk3yYkqOS"
      },
      "source": [
        "#divide list in sublist having seperate elements in odd and even\n",
        "L=list()\n",
        "n=int(input('Enter number of elements in list='))\n",
        "for x in range(n):\n",
        "  e=int(input('enter the element'))\n",
        "  L.append(e)\n",
        "print('Created list',L)\n",
        "print()\n",
        "L1=[x for x in L if x%2==0]\n",
        "L2=[x for x in L if x%2!=0]\n",
        "print('New even list=',L1)\n",
        "print('New odd list=',L2)  "
      ],
      "execution_count": null,
      "outputs": []
    },
    {
      "cell_type": "code",
      "metadata": {
        "id": "I53qKinNmZJv"
      },
      "source": [
        "#create a list marks having marks of 7 subject and print percentage\n",
        "marks=list()\n",
        "for x in range(7):\n",
        "  m=int(input('Enter marks of subject='))\n",
        "  marks.append(m)\n",
        "total=0  #or can use total=sum(marks)\n",
        "for a in marks:\n",
        "  total=total+a\n",
        "percentage=(total/700)*100  \n",
        "print('Pecentage of students',round(percentage,2))"
      ],
      "execution_count": null,
      "outputs": []
    },
    {
      "cell_type": "code",
      "metadata": {
        "id": "L_87C13tn2YW"
      },
      "source": [
        "#built list and count how many odd and even number\n",
        "L=[]\n",
        "for x in range(15):\n",
        "  e=int(input('Enter new elements='))\n",
        "  L.append(e)\n",
        "even=0\n",
        "odd=0\n",
        "for a in L:\n",
        "  if (a%2==0):\n",
        "    even=even+1\n",
        "  else:\n",
        "    odd=odd+1\n",
        "print(\"Count of even numbers\",even)\n",
        "print('Count of odd numbers',odd)"
      ],
      "execution_count": null,
      "outputs": []
    },
    {
      "cell_type": "code",
      "metadata": {
        "id": "SOLaKFfIp1iP"
      },
      "source": [
        "name=[]\n",
        "cgpa=[]\n",
        "for x in range(10):\n",
        "  e=float(input('Enter value of cgpa='))\n",
        "  cgpa.append(e)\n",
        "  f=str(input('Enter your name='))\n",
        "  name.append(f)\n",
        "for n in range(10):\n",
        "  print('Name=',name[n],'','CGPA',cgpa[n])\n",
        "print()\n",
        "min=cgpa[0]\n",
        "for x in cgpa:\n",
        "  if(min > x):\n",
        "    min=x\n",
        "i=cgpa.index(min) \n",
        "print('Name of student with minimum cgpa',name[i]) \n"
      ],
      "execution_count": null,
      "outputs": []
    },
    {
      "cell_type": "code",
      "metadata": {
        "id": "-dif1bjtvQBl"
      },
      "source": [
        "#swap content of two list\n",
        "A=[]\n",
        "B=[]\n",
        "for x in range(5):\n",
        "  e=int(input('Enter value for A='))\n",
        "  A.append(e)\n",
        "  f=int(input('Enter value for B='))\n",
        "  B.append(f)\n",
        "def SWAP(L1,L2):\n",
        "  L3=[]\n",
        "  for x in L1:\n",
        "    L3.append(x)\n",
        "  for a in range(len(L1)):\n",
        "    L1[a]=L2[b]\n",
        "  for b in range(len(L2)):\n",
        "    L2[b]=L3[b]\n",
        "  return L1,L2\n",
        "print('Before swaping A')\n",
        "print(A)\n",
        "print('Before swapping B')\n",
        "print(B)\n",
        "print()\n",
        "X,Y=SWAP(A,B)\n",
        "print('After swapping A')  \n",
        "print(X)\n",
        "print('After swapping B')\n",
        "print(Y)"
      ],
      "execution_count": null,
      "outputs": []
    },
    {
      "cell_type": "code",
      "metadata": {
        "colab": {
          "base_uri": "https://localhost:8080/"
        },
        "id": "NB7n4h_J6BKh",
        "outputId": "e4f6c0cc-2264-411d-85bb-d790cfbf85e7"
      },
      "source": [
        "tupl=()\n",
        "\n",
        "tupl1=tupl*2\n",
        "\n",
        "print(len(tupl1))"
      ],
      "execution_count": 19,
      "outputs": [
        {
          "output_type": "stream",
          "name": "stdout",
          "text": [
            "0\n"
          ]
        }
      ]
    }
  ]
}