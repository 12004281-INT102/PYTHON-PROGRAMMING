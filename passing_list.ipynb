{
  "nbformat": 4,
  "nbformat_minor": 0,
  "metadata": {
    "colab": {
      "name": "passing list.ipynb",
      "provenance": [],
      "collapsed_sections": [],
      "authorship_tag": "ABX9TyMs+maPoExRqmsYUR9iiUH1",
      "include_colab_link": true
    },
    "kernelspec": {
      "name": "python3",
      "display_name": "Python 3"
    },
    "language_info": {
      "name": "python"
    }
  },
  "cells": [
    {
      "cell_type": "markdown",
      "metadata": {
        "id": "view-in-github",
        "colab_type": "text"
      },
      "source": [
        "<a href=\"https://colab.research.google.com/github/12004281-INT102/PYTHON-PROGRAMMING/blob/main/passing_list.ipynb\" target=\"_parent\"><img src=\"https://colab.research.google.com/assets/colab-badge.svg\" alt=\"Open In Colab\"/></a>"
      ]
    },
    {
      "cell_type": "code",
      "metadata": {
        "id": "uNeDV0vxudPb"
      },
      "source": [
        "#passing a list to a function (function parameter is a list)\n",
        "#write a function that calculate and return maximum or minimun value\n",
        "#by passing a ordered list to a function as input\n",
        "#using built in function\n",
        "def max_min(L):\n",
        "  MAX=max(L)\n",
        "  MIN=min(L)\n",
        "  return MAX,MIN\n",
        "a,b=max_min([45,68,39,87,95,22,58])\n",
        "print('Maximum value is',a)\n",
        "print('Minimum value is',b)"
      ],
      "execution_count": null,
      "outputs": []
    },
    {
      "cell_type": "code",
      "metadata": {
        "colab": {
          "base_uri": "https://localhost:8080/"
        },
        "id": "_jgc1j6sv5Gq",
        "outputId": "374bdf6d-5aab-4c26-ba3c-a65bf33067f9"
      },
      "source": [
        "#without using in built function\n",
        "def ma_min(L):\n",
        "  MAX=L[0]\n",
        "  for x in L:\n",
        "    if(MAX < x):\n",
        "      MAX=x\n",
        "  MIN=L[0]\n",
        "  for y in L:\n",
        "    if(MIN > y):\n",
        "      MIN=y \n",
        "  return MAX,MIN\n",
        "A=[] #empty list\n",
        "n=int(input('Enter size of list='))\n",
        "for x in range(n):\n",
        "  element=int(input('Enter the element in list'))\n",
        "  A.append(element)\n",
        "print('The created list')\n",
        "print(A)\n",
        "a,b=max_min(A)\n",
        "print('Maximum value',a)\n",
        "print('Minimum value',b)"
      ],
      "execution_count": null,
      "outputs": [
        {
          "output_type": "stream",
          "name": "stdout",
          "text": [
            "Enter size of list=2\n",
            "Enter the element in list1\n",
            "Enter the element in list2\n",
            "The created list\n",
            "[1, 2]\n",
            "Maximum value 2\n",
            "Minimum value 1\n"
          ]
        }
      ]
    },
    {
      "cell_type": "code",
      "metadata": {
        "id": "9nYOHnbO0en3"
      },
      "source": [
        "#Local and Global variable- species scope\n",
        "#local variable-defined or used inside function\n",
        "#global variable-can be defined or used outside the function "
      ],
      "execution_count": null,
      "outputs": []
    },
    {
      "cell_type": "code",
      "metadata": {
        "id": "q0dpGQVT1FKQ"
      },
      "source": [
        "def show():\n",
        "  X=10\n",
        "  Y=20\n",
        "  print(X,Y) #local\n",
        "show() \n"
      ],
      "execution_count": null,
      "outputs": []
    },
    {
      "cell_type": "code",
      "metadata": {
        "id": "11jsRGDm1d7I"
      },
      "source": [
        "def show():\n",
        "  print(L,M)#global\n",
        "L=12\n",
        "M=98\n",
        "show()"
      ],
      "execution_count": null,
      "outputs": []
    },
    {
      "cell_type": "code",
      "metadata": {
        "id": "NuxzR6Cx1vsA"
      },
      "source": [
        "def show():\n",
        "  global p\n",
        "  global q\n",
        "  p=8\n",
        "  q=4\n",
        "show()\n",
        "print(p,q)"
      ],
      "execution_count": null,
      "outputs": []
    },
    {
      "cell_type": "markdown",
      "metadata": {
        "id": "btJErofxv9wM"
      },
      "source": [
        "**Sublist-list within list**"
      ]
    },
    {
      "cell_type": "code",
      "metadata": {
        "id": "yvarZLgLwEZH"
      },
      "source": [
        "L=[1,2,3,[4,5],8]\n",
        "len(L)\n",
        "#accessing element from list\n",
        "#synatx- List[index_p][index_c]\n",
        "print(L[3][1])\n",
        "L1=[1,2,3,[2,3,[4,5,[2,4,6]],8]"
      ],
      "execution_count": null,
      "outputs": []
    }
  ]
}