{
  "nbformat": 4,
  "nbformat_minor": 0,
  "metadata": {
    "colab": {
      "name": "2D array.ipynb",
      "provenance": [],
      "authorship_tag": "ABX9TyMdSTt+7GGtlNWwBfrJZKMt",
      "include_colab_link": true
    },
    "kernelspec": {
      "name": "python3",
      "display_name": "Python 3"
    },
    "language_info": {
      "name": "python"
    }
  },
  "cells": [
    {
      "cell_type": "markdown",
      "metadata": {
        "id": "view-in-github",
        "colab_type": "text"
      },
      "source": [
        "<a href=\"https://colab.research.google.com/github/12004281-INT102/PYTHON-PROGRAMMING/blob/main/2D_array.ipynb\" target=\"_parent\"><img src=\"https://colab.research.google.com/assets/colab-badge.svg\" alt=\"Open In Colab\"/></a>"
      ]
    },
    {
      "cell_type": "markdown",
      "metadata": {
        "id": "ZxwlMxpiDu-l"
      },
      "source": [
        "2D array programs"
      ]
    },
    {
      "cell_type": "code",
      "metadata": {
        "id": "UpXsIuXtBWfT"
      },
      "source": [
        "#perform sum of 2D array without using add() or by direct method\n",
        "import numpy as np\n",
        "rows=int(input('Enter the number of rows in array='))\n",
        "cols=int(input('Enter the number of columns in array='))\n",
        "A=np.arange(rows * cols).reshape(rows,cols)\n",
        "print(A)\n",
        "B=np.arange(rows * cols).reshape(rows,cols)\n",
        "print(B)\n",
        "c=np.arange(9).reshape(3,3)\n",
        "for x in range (rows):\n",
        "  for y in range(cols):\n",
        "    c[x][y]=A[x][y]+ B[x][y]\n",
        "print('Sum of arrays are given below')\n",
        "print(c)"
      ],
      "execution_count": null,
      "outputs": []
    },
    {
      "cell_type": "code",
      "metadata": {
        "id": "wHRV2dnXGylq"
      },
      "source": [
        "#print even values from array\n",
        "rows=int(input('Enter the number of rows in array='))\n",
        "cols=int(input('Enter the number of columns in array='))\n",
        "D=np.arange(rows * cols).reshape(rows,cols)\n",
        "for x in range(rows):\n",
        "  for y in range(cols):\n",
        "    D[x][y]=int(input('Enter values for element='))\n",
        "print(D)\n",
        "for x in range(rows):\n",
        "  for y in range(cols):\n",
        "    if (D[x][y] % 2 == 0):\n",
        "      print(D[x][y])"
      ],
      "execution_count": null,
      "outputs": []
    },
    {
      "cell_type": "code",
      "metadata": {
        "id": "Iv01NMDzKHZz"
      },
      "source": [
        "#search for the values and show position\n",
        "r=int(input('Enter the number of rows in array='))\n",
        "c=int(input('Enter the number of columns in array='))\n",
        "D=np.arange(r * c).reshape(r,c)\n",
        "for x in range(r):\n",
        "  for y in range(c):\n",
        "    D[x][y]=int(input('Enter values for element='))\n",
        "print(D)\n",
        "n=int(input('Enter the element to search='))\n",
        "result=False\n",
        "for x in range(r):\n",
        "  for y in range(c):\n",
        "    if(D[x][y]== n):\n",
        "      print(n,'is found at row=',x,'and col=',y)\n",
        "      result=True\n",
        "      break\n",
        "if( result==False):\n",
        "  print(n,'does not exist in array')"
      ],
      "execution_count": null,
      "outputs": []
    },
    {
      "cell_type": "code",
      "metadata": {
        "id": "UQyOxR8nML8p"
      },
      "source": [
        "#print sum of all elemnts\n",
        "rows=int(input('Enter the number of rows in array='))\n",
        "cols=int(input('Enter the number of columns in array='))\n",
        "D=np.arange(rows * cols).reshape(rows,cols)\n",
        "for x in range(rows):\n",
        "  for y in range(cols):\n",
        "    D[x][y]=int(input('Enter values for element='))\n",
        "print(D)\n",
        "sum=0\n",
        "for x in range(r):\n",
        "  for y in range(c):\n",
        "    sum=sum+ D[x][y]\n",
        "print('Sum is',sum)"
      ],
      "execution_count": null,
      "outputs": []
    },
    {
      "cell_type": "code",
      "metadata": {
        "id": "xugUrvpfNOZ2"
      },
      "source": [
        "#count total occurance of element\n",
        "r=int(input('Enter the number of rows in array='))\n",
        "c=int(input('Enter the number of columns in array='))\n",
        "D=np.arange(r * c).reshape(r,c)\n",
        "for x in range(r):\n",
        "  for y in range(c):\n",
        "    D[x][y]=int(input('Enter values for element='))\n",
        "print(D)\n",
        "n=int(input('Enter the element to count its occurances='))\n",
        "count=0\n",
        "for x in range(r):\n",
        "  for y in range(c):\n",
        "    if(D[x][y]==n):\n",
        "      count=count+1\n",
        "print(n,'is repeat in 2D array of' ,count,'times')"
      ],
      "execution_count": null,
      "outputs": []
    },
    {
      "cell_type": "code",
      "metadata": {
        "id": "0DaTAvq2QFdg"
      },
      "source": [
        "#sum of row elements\n",
        "r=int(input('Enter the number of rows in array='))\n",
        "c=int(input('Enter the number of columns in array='))\n",
        "D=np.arange(r * c).reshape(r,c)\n",
        "for x in range(r):\n",
        "  for y in range(c):\n",
        "    D[x][y]=int(input('Enter values for element='))\n",
        "print(D)\n",
        "for x in range(r):\n",
        "  sum=0\n",
        "  for y in range(c):\n",
        "    sum=sum+D[x][y]\n",
        "  print('Sum of row number', x, 'is =',sum)"
      ],
      "execution_count": null,
      "outputs": []
    },
    {
      "cell_type": "code",
      "metadata": {
        "id": "EqhZJVkwR0KR"
      },
      "source": [
        "#sum of column elements\n",
        "r=int(input('Enter the number of rows in array='))\n",
        "c=int(input('Enter the number of columns in array='))\n",
        "D=np.arange(r * c).reshape(r,c)\n",
        "for x in range(r):\n",
        "  for y in range(c):\n",
        "    D[x][y]=int(input('Enter values for element='))\n",
        "print(D)\n",
        "for y in range(c):\n",
        "  sum=0\n",
        "  for x in range(r):\n",
        "    sum=sum+D[x][y] #or D[y][x] with previous values\n",
        "  print('Sum of col number', y, 'is =',sum)"
      ],
      "execution_count": null,
      "outputs": []
    },
    {
      "cell_type": "code",
      "metadata": {
        "id": "0dysNb97UY3p"
      },
      "source": [
        "#sum of diagonals elements\n",
        "r=int(input('Enter the number of rows in array='))\n",
        "c=int(input('Enter the number of columns in array='))\n",
        "D=np.arange(r * c).reshape(r,c)\n",
        "for x in range(r):\n",
        "  for y in range(c):\n",
        "    D[x][y]=int(input('Enter values for element='))\n",
        "print(D)\n",
        "sum=0\n",
        "for x in range(r):\n",
        "  for y in range(c):\n",
        "    if(x == y):\n",
        "      sum = sum+D[x][y]\n",
        "print('Sum of element',sum)"
      ],
      "execution_count": null,
      "outputs": []
    },
    {
      "cell_type": "code",
      "metadata": {
        "id": "r8b1FD_OV9v3"
      },
      "source": [
        "#find max and minimum in rows and column"
      ],
      "execution_count": null,
      "outputs": []
    },
    {
      "cell_type": "markdown",
      "metadata": {
        "id": "kQP1NkgeWbN0"
      },
      "source": [
        "**MATRIX MULTIPLICATION**"
      ]
    },
    {
      "cell_type": "code",
      "metadata": {
        "id": "bVCPCugdWgUu"
      },
      "source": [
        "a=np.arange(1,10).reshape(3,3)\n",
        "b=np.arange(1,10).reshape(3,3)\n",
        "c=np.zeros((3,3),dtype=int)\n",
        "print(a)\n",
        "print(b)\n",
        "print(c)\n",
        "for x in range(3):\n",
        "  for y in range(3):\n",
        "    for k in range(3):\n",
        "      c[x][y]=c[x][y]+ a[x][k]*b[k][y]\n",
        "print('Matrix multiplication')\n",
        "print(c)"
      ],
      "execution_count": null,
      "outputs": []
    },
    {
      "cell_type": "code",
      "metadata": {
        "id": "j7_MSsIXZIAV"
      },
      "source": [
        "g=np.arange(1,37).reshape(6,6)\n",
        "print(g) #14,15,15 20,21,22,26,27,28 slice\n",
        "m=g[2:5,1:4]\n",
        "print(m)\n",
        "d=np.diagonal(m)\n",
        "print('Sum of diagonal elements',d.sum())"
      ],
      "execution_count": null,
      "outputs": []
    }
  ]
}