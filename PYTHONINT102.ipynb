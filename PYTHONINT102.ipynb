{
  "nbformat": 4,
  "nbformat_minor": 0,
  "metadata": {
    "colab": {
      "name": "PYTHONINT102.ipynb",
      "provenance": [],
      "collapsed_sections": [],
      "authorship_tag": "ABX9TyP+VUgeqRMjrIebkagbTx0J",
      "include_colab_link": true
    },
    "kernelspec": {
      "name": "python3",
      "display_name": "Python 3"
    },
    "language_info": {
      "name": "python"
    }
  },
  "cells": [
    {
      "cell_type": "markdown",
      "metadata": {
        "id": "view-in-github",
        "colab_type": "text"
      },
      "source": [
        "<a href=\"https://colab.research.google.com/github/12004281-INT102/PYTHON-PROGRAMMING/blob/main/PYTHONINT102.ipynb\" target=\"_parent\"><img src=\"https://colab.research.google.com/assets/colab-badge.svg\" alt=\"Open In Colab\"/></a>"
      ]
    },
    {
      "cell_type": "code",
      "metadata": {
        "id": "SkrackMNgE-K"
      },
      "source": [
        ""
      ],
      "execution_count": null,
      "outputs": []
    },
    {
      "cell_type": "markdown",
      "metadata": {
        "id": "yvFJYhoXge62"
      },
      "source": [
        "**12004281-INT102 COMPUTER PROGRAMMING**"
      ]
    },
    {
      "cell_type": "markdown",
      "metadata": {
        "id": "kuQnMADPg1Rt"
      },
      "source": [
        "UNIT-1 INTRODUCTION, VARIABLE, EXPRESSION AND STATEMENT"
      ]
    },
    {
      "cell_type": "markdown",
      "metadata": {
        "id": "0vMOiVsDn-6O"
      },
      "source": [
        "PR0GRAM ON ARTIMETIC OPERATION"
      ]
    },
    {
      "cell_type": "code",
      "metadata": {
        "colab": {
          "base_uri": "https://localhost:8080/"
        },
        "id": "CMJqLluKp3u6",
        "outputId": "cdb18088-8fe0-4427-92fc-273b4fa1e5fa"
      },
      "source": [
        "f = 98\n",
        "c = (f - 32) * 5 / 9\n",
        "print(\"Temperature in celcius is\" , round(c,2))"
      ],
      "execution_count": 4,
      "outputs": [
        {
          "output_type": "stream",
          "text": [
            "Temperature in celcius is 36.67\n"
          ],
          "name": "stdout"
        }
      ]
    },
    {
      "cell_type": "markdown",
      "metadata": {
        "id": "DCmAvZKgsCp6"
      },
      "source": [
        "PROGRAM TO INTERCHANGE THE VALUES OF TWO VARIABLE USING THIRD VARIABLE"
      ]
    },
    {
      "cell_type": "code",
      "metadata": {
        "colab": {
          "base_uri": "https://localhost:8080/"
        },
        "id": "y_ErXZiDsODl",
        "outputId": "c11bc067-0727-43ca-fd49-c3179523c861"
      },
      "source": [
        "X=20\n",
        "Y=30\n",
        "print(\"Before Swapping X=\",X)\n",
        "print(\"Before Swapping Y=\",Y)\n",
        "temp=X\n",
        "X=Y\n",
        "Y=temp\n",
        "print(\"After Swapping X=\",X)\n",
        "print(\"After Swapping Y=\",Y)"
      ],
      "execution_count": 5,
      "outputs": [
        {
          "output_type": "stream",
          "text": [
            "Before Swapping X= 20\n",
            "Before Swapping Y= 30\n",
            "After Swapping X= 30\n",
            "After Swapping Y= 20\n"
          ],
          "name": "stdout"
        }
      ]
    },
    {
      "cell_type": "markdown",
      "metadata": {
        "id": "siVTVgrDtZIN"
      },
      "source": [
        "PROGRAM INTERCHANGE VALUE OF TWO VARIABLE WITHOUT USING THIRD VARIABLE"
      ]
    },
    {
      "cell_type": "code",
      "metadata": {
        "colab": {
          "base_uri": "https://localhost:8080/"
        },
        "id": "_KcUXu6jtrDy",
        "outputId": "6f9d75bd-c25c-4c72-9749-8336d055f196"
      },
      "source": [
        "A=20\n",
        "B=30\n",
        "print(\"Before Swapping X=\",A)\n",
        "print(\"Before Swapping Y=\",B)\n",
        "A=A+B\n",
        "B=A-B\n",
        "A=A-B\n",
        "print(\"After Swapping X=\",A)\n",
        "print(\"After Swapping Y=\",B)"
      ],
      "execution_count": 6,
      "outputs": [
        {
          "output_type": "stream",
          "text": [
            "Before Swapping X= 20\n",
            "Before Swapping Y= 30\n",
            "After Swapping X= 30\n",
            "After Swapping Y= 20\n"
          ],
          "name": "stdout"
        }
      ]
    },
    {
      "cell_type": "markdown",
      "metadata": {
        "id": "c-fp1sBOu86P"
      },
      "source": [
        "USE OF INPUT FUNCTION\n"
      ]
    },
    {
      "cell_type": "code",
      "metadata": {
        "colab": {
          "base_uri": "https://localhost:8080/"
        },
        "id": "km38kcpEvw65",
        "outputId": "cda67ef5-3987-4f4b-d76c-4592ccde23f6"
      },
      "source": [
        "A=int(input('Enter the value of A='))\n",
        "B=int(input('Enter the value of B='))\n",
        "C=A+B\n",
        "print(\"Sum of A and B is\", C)"
      ],
      "execution_count": 11,
      "outputs": [
        {
          "output_type": "stream",
          "text": [
            "Enter the value of A=12\n",
            "Enter the value of B=23\n",
            "Sum of A and B is 35\n"
          ],
          "name": "stdout"
        }
      ]
    },
    {
      "cell_type": "code",
      "metadata": {
        "colab": {
          "base_uri": "https://localhost:8080/"
        },
        "id": "pqEs5-FPzkg-",
        "outputId": "2a56c54f-b5ab-48f3-ef19-f6e181f749c5"
      },
      "source": [
        "S1=eval(input('Enter mark for subject 1='))\n",
        "S2=eval(input('Enter mark for subject 2='))\n",
        "S3=eval(input('Enter mark for subject 3='))\n",
        "S4=eval(input('Enter mark for subject 4='))\n",
        "S5=eval(input('Enter mark for subject 5='))\n",
        "Avg=(S1+S2+S3+S4+S5)/5\n",
        "percent=(S1+S2+S3+S4+S5)/500 * 100\n",
        "print(\"The average marks for subjects are= \",round(Avg,1))\n",
        "print(\"The percentage of subjects are=\",round(percent,2))"
      ],
      "execution_count": 15,
      "outputs": [
        {
          "output_type": "stream",
          "text": [
            "Enter mark for subject 1=124.5\n",
            "Enter mark for subject 2=234.4\n",
            "Enter mark for subject 3=124.44\n",
            "Enter mark for subject 4=123.76\n",
            "Enter mark for subject 5=234.67\n",
            "The average marks for subjects are=  168.4\n",
            "The percentage of subjects are= 168.35\n"
          ],
          "name": "stdout"
        }
      ]
    }
  ]
}